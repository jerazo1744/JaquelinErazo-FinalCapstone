{
 "cells": [
  {
   "cell_type": "markdown",
   "metadata": {},
   "source": [
    "# Import Modules"
   ]
  },
  {
   "cell_type": "code",
   "execution_count": 1,
   "metadata": {},
   "outputs": [],
   "source": [
    "import pandas as pd\n",
    "import numpy as np\n",
    "import seaborn as sns\n",
    "import datetime as dt\n",
    "import statsmodels.formula.api as smf\n",
    "from sklearn.metrics import r2_score, mean_squared_error\n",
    "import sklearn.metrics\n",
    "from sklearn.metrics import confusion_matrix, accuracy_score\n",
    "from sklearn.model_selection import train_test_split"
   ]
  },
  {
   "cell_type": "markdown",
   "metadata": {},
   "source": [
    "# Import CSV's"
   ]
  },
  {
   "cell_type": "code",
   "execution_count": 2,
   "metadata": {},
   "outputs": [],
   "source": [
    "oct_2019 = pd.read_csv('2019-Oct.csv')"
   ]
  },
  {
   "cell_type": "code",
   "execution_count": 3,
   "metadata": {},
   "outputs": [],
   "source": [
    "nov_2019 = pd.read_csv('2019-Nov.csv')"
   ]
  },
  {
   "cell_type": "code",
   "execution_count": 4,
   "metadata": {},
   "outputs": [],
   "source": [
    "dec_2019 = pd.read_csv('2019-Dec.csv')"
   ]
  },
  {
   "cell_type": "code",
   "execution_count": 5,
   "metadata": {},
   "outputs": [],
   "source": [
    "jan_2020 = pd.read_csv('2020-Jan.csv')"
   ]
  },
  {
   "cell_type": "code",
   "execution_count": 6,
   "metadata": {},
   "outputs": [],
   "source": [
    "feb_2020 = pd.read_csv('2020-Feb.csv')"
   ]
  },
  {
   "cell_type": "markdown",
   "metadata": {},
   "source": [
    "# Look into CSV's"
   ]
  },
  {
   "cell_type": "code",
   "execution_count": 7,
   "metadata": {},
   "outputs": [
    {
     "name": "stdout",
     "output_type": "stream",
     "text": [
      "<class 'pandas.core.frame.DataFrame'>\n",
      "RangeIndex: 4102283 entries, 0 to 4102282\n",
      "Data columns (total 9 columns):\n",
      " #   Column         Dtype  \n",
      "---  ------         -----  \n",
      " 0   event_time     object \n",
      " 1   event_type     object \n",
      " 2   product_id     int64  \n",
      " 3   category_id    int64  \n",
      " 4   category_code  object \n",
      " 5   brand          object \n",
      " 6   price          float64\n",
      " 7   user_id        int64  \n",
      " 8   user_session   object \n",
      "dtypes: float64(1), int64(3), object(5)\n",
      "memory usage: 281.7+ MB\n"
     ]
    }
   ],
   "source": [
    "oct_2019.info()"
   ]
  },
  {
   "cell_type": "code",
   "execution_count": 8,
   "metadata": {},
   "outputs": [
    {
     "data": {
      "text/html": [
       "<div>\n",
       "<style scoped>\n",
       "    .dataframe tbody tr th:only-of-type {\n",
       "        vertical-align: middle;\n",
       "    }\n",
       "\n",
       "    .dataframe tbody tr th {\n",
       "        vertical-align: top;\n",
       "    }\n",
       "\n",
       "    .dataframe thead th {\n",
       "        text-align: right;\n",
       "    }\n",
       "</style>\n",
       "<table border=\"1\" class=\"dataframe\">\n",
       "  <thead>\n",
       "    <tr style=\"text-align: right;\">\n",
       "      <th></th>\n",
       "      <th>event_time</th>\n",
       "      <th>event_type</th>\n",
       "      <th>product_id</th>\n",
       "      <th>category_id</th>\n",
       "      <th>category_code</th>\n",
       "      <th>brand</th>\n",
       "      <th>price</th>\n",
       "      <th>user_id</th>\n",
       "      <th>user_session</th>\n",
       "    </tr>\n",
       "  </thead>\n",
       "  <tbody>\n",
       "    <tr>\n",
       "      <th>0</th>\n",
       "      <td>2019-10-01 00:00:00 UTC</td>\n",
       "      <td>cart</td>\n",
       "      <td>5773203</td>\n",
       "      <td>1487580005134238553</td>\n",
       "      <td>NaN</td>\n",
       "      <td>runail</td>\n",
       "      <td>2.62</td>\n",
       "      <td>463240011</td>\n",
       "      <td>26dd6e6e-4dac-4778-8d2c-92e149dab885</td>\n",
       "    </tr>\n",
       "  </tbody>\n",
       "</table>\n",
       "</div>"
      ],
      "text/plain": [
       "                event_time event_type  product_id          category_id  \\\n",
       "0  2019-10-01 00:00:00 UTC       cart     5773203  1487580005134238553   \n",
       "\n",
       "  category_code   brand  price    user_id  \\\n",
       "0           NaN  runail   2.62  463240011   \n",
       "\n",
       "                           user_session  \n",
       "0  26dd6e6e-4dac-4778-8d2c-92e149dab885  "
      ]
     },
     "execution_count": 8,
     "metadata": {},
     "output_type": "execute_result"
    }
   ],
   "source": [
    "oct_2019.head(1)"
   ]
  },
  {
   "cell_type": "code",
   "execution_count": 9,
   "metadata": {},
   "outputs": [
    {
     "name": "stdout",
     "output_type": "stream",
     "text": [
      "<class 'pandas.core.frame.DataFrame'>\n",
      "RangeIndex: 4635837 entries, 0 to 4635836\n",
      "Data columns (total 9 columns):\n",
      " #   Column         Dtype  \n",
      "---  ------         -----  \n",
      " 0   event_time     object \n",
      " 1   event_type     object \n",
      " 2   product_id     int64  \n",
      " 3   category_id    int64  \n",
      " 4   category_code  object \n",
      " 5   brand          object \n",
      " 6   price          float64\n",
      " 7   user_id        int64  \n",
      " 8   user_session   object \n",
      "dtypes: float64(1), int64(3), object(5)\n",
      "memory usage: 318.3+ MB\n"
     ]
    }
   ],
   "source": [
    "nov_2019.info()"
   ]
  },
  {
   "cell_type": "code",
   "execution_count": 10,
   "metadata": {},
   "outputs": [
    {
     "data": {
      "text/html": [
       "<div>\n",
       "<style scoped>\n",
       "    .dataframe tbody tr th:only-of-type {\n",
       "        vertical-align: middle;\n",
       "    }\n",
       "\n",
       "    .dataframe tbody tr th {\n",
       "        vertical-align: top;\n",
       "    }\n",
       "\n",
       "    .dataframe thead th {\n",
       "        text-align: right;\n",
       "    }\n",
       "</style>\n",
       "<table border=\"1\" class=\"dataframe\">\n",
       "  <thead>\n",
       "    <tr style=\"text-align: right;\">\n",
       "      <th></th>\n",
       "      <th>event_time</th>\n",
       "      <th>event_type</th>\n",
       "      <th>product_id</th>\n",
       "      <th>category_id</th>\n",
       "      <th>category_code</th>\n",
       "      <th>brand</th>\n",
       "      <th>price</th>\n",
       "      <th>user_id</th>\n",
       "      <th>user_session</th>\n",
       "    </tr>\n",
       "  </thead>\n",
       "  <tbody>\n",
       "    <tr>\n",
       "      <th>0</th>\n",
       "      <td>2019-11-01 00:00:02 UTC</td>\n",
       "      <td>view</td>\n",
       "      <td>5802432</td>\n",
       "      <td>1487580009286598681</td>\n",
       "      <td>NaN</td>\n",
       "      <td>NaN</td>\n",
       "      <td>0.32</td>\n",
       "      <td>562076640</td>\n",
       "      <td>09fafd6c-6c99-46b1-834f-33527f4de241</td>\n",
       "    </tr>\n",
       "  </tbody>\n",
       "</table>\n",
       "</div>"
      ],
      "text/plain": [
       "                event_time event_type  product_id          category_id  \\\n",
       "0  2019-11-01 00:00:02 UTC       view     5802432  1487580009286598681   \n",
       "\n",
       "  category_code brand  price    user_id                          user_session  \n",
       "0           NaN   NaN   0.32  562076640  09fafd6c-6c99-46b1-834f-33527f4de241  "
      ]
     },
     "execution_count": 10,
     "metadata": {},
     "output_type": "execute_result"
    }
   ],
   "source": [
    "nov_2019.head(1)"
   ]
  },
  {
   "cell_type": "code",
   "execution_count": 11,
   "metadata": {},
   "outputs": [
    {
     "name": "stdout",
     "output_type": "stream",
     "text": [
      "<class 'pandas.core.frame.DataFrame'>\n",
      "RangeIndex: 3533286 entries, 0 to 3533285\n",
      "Data columns (total 9 columns):\n",
      " #   Column         Dtype  \n",
      "---  ------         -----  \n",
      " 0   event_time     object \n",
      " 1   event_type     object \n",
      " 2   product_id     int64  \n",
      " 3   category_id    int64  \n",
      " 4   category_code  object \n",
      " 5   brand          object \n",
      " 6   price          float64\n",
      " 7   user_id        int64  \n",
      " 8   user_session   object \n",
      "dtypes: float64(1), int64(3), object(5)\n",
      "memory usage: 242.6+ MB\n"
     ]
    }
   ],
   "source": [
    "dec_2019.info()"
   ]
  },
  {
   "cell_type": "code",
   "execution_count": 12,
   "metadata": {},
   "outputs": [
    {
     "data": {
      "text/html": [
       "<div>\n",
       "<style scoped>\n",
       "    .dataframe tbody tr th:only-of-type {\n",
       "        vertical-align: middle;\n",
       "    }\n",
       "\n",
       "    .dataframe tbody tr th {\n",
       "        vertical-align: top;\n",
       "    }\n",
       "\n",
       "    .dataframe thead th {\n",
       "        text-align: right;\n",
       "    }\n",
       "</style>\n",
       "<table border=\"1\" class=\"dataframe\">\n",
       "  <thead>\n",
       "    <tr style=\"text-align: right;\">\n",
       "      <th></th>\n",
       "      <th>event_time</th>\n",
       "      <th>event_type</th>\n",
       "      <th>product_id</th>\n",
       "      <th>category_id</th>\n",
       "      <th>category_code</th>\n",
       "      <th>brand</th>\n",
       "      <th>price</th>\n",
       "      <th>user_id</th>\n",
       "      <th>user_session</th>\n",
       "    </tr>\n",
       "  </thead>\n",
       "  <tbody>\n",
       "    <tr>\n",
       "      <th>0</th>\n",
       "      <td>2019-12-01 00:00:00 UTC</td>\n",
       "      <td>remove_from_cart</td>\n",
       "      <td>5712790</td>\n",
       "      <td>1487580005268456287</td>\n",
       "      <td>NaN</td>\n",
       "      <td>f.o.x</td>\n",
       "      <td>6.27</td>\n",
       "      <td>576802932</td>\n",
       "      <td>51d85cb0-897f-48d2-918b-ad63965c12dc</td>\n",
       "    </tr>\n",
       "  </tbody>\n",
       "</table>\n",
       "</div>"
      ],
      "text/plain": [
       "                event_time        event_type  product_id          category_id  \\\n",
       "0  2019-12-01 00:00:00 UTC  remove_from_cart     5712790  1487580005268456287   \n",
       "\n",
       "  category_code  brand  price    user_id                          user_session  \n",
       "0           NaN  f.o.x   6.27  576802932  51d85cb0-897f-48d2-918b-ad63965c12dc  "
      ]
     },
     "execution_count": 12,
     "metadata": {},
     "output_type": "execute_result"
    }
   ],
   "source": [
    "dec_2019.head(1)"
   ]
  },
  {
   "cell_type": "code",
   "execution_count": 13,
   "metadata": {},
   "outputs": [
    {
     "name": "stdout",
     "output_type": "stream",
     "text": [
      "<class 'pandas.core.frame.DataFrame'>\n",
      "RangeIndex: 4264752 entries, 0 to 4264751\n",
      "Data columns (total 9 columns):\n",
      " #   Column         Dtype  \n",
      "---  ------         -----  \n",
      " 0   event_time     object \n",
      " 1   event_type     object \n",
      " 2   product_id     int64  \n",
      " 3   category_id    int64  \n",
      " 4   category_code  object \n",
      " 5   brand          object \n",
      " 6   price          float64\n",
      " 7   user_id        int64  \n",
      " 8   user_session   object \n",
      "dtypes: float64(1), int64(3), object(5)\n",
      "memory usage: 292.8+ MB\n"
     ]
    }
   ],
   "source": [
    "jan_2020.info()"
   ]
  },
  {
   "cell_type": "code",
   "execution_count": 14,
   "metadata": {},
   "outputs": [
    {
     "data": {
      "text/html": [
       "<div>\n",
       "<style scoped>\n",
       "    .dataframe tbody tr th:only-of-type {\n",
       "        vertical-align: middle;\n",
       "    }\n",
       "\n",
       "    .dataframe tbody tr th {\n",
       "        vertical-align: top;\n",
       "    }\n",
       "\n",
       "    .dataframe thead th {\n",
       "        text-align: right;\n",
       "    }\n",
       "</style>\n",
       "<table border=\"1\" class=\"dataframe\">\n",
       "  <thead>\n",
       "    <tr style=\"text-align: right;\">\n",
       "      <th></th>\n",
       "      <th>event_time</th>\n",
       "      <th>event_type</th>\n",
       "      <th>product_id</th>\n",
       "      <th>category_id</th>\n",
       "      <th>category_code</th>\n",
       "      <th>brand</th>\n",
       "      <th>price</th>\n",
       "      <th>user_id</th>\n",
       "      <th>user_session</th>\n",
       "    </tr>\n",
       "  </thead>\n",
       "  <tbody>\n",
       "    <tr>\n",
       "      <th>0</th>\n",
       "      <td>2020-01-01 00:00:00 UTC</td>\n",
       "      <td>view</td>\n",
       "      <td>5809910</td>\n",
       "      <td>1602943681873052386</td>\n",
       "      <td>NaN</td>\n",
       "      <td>grattol</td>\n",
       "      <td>5.24</td>\n",
       "      <td>595414620</td>\n",
       "      <td>4adb70bb-edbd-4981-b60f-a05bfd32683a</td>\n",
       "    </tr>\n",
       "  </tbody>\n",
       "</table>\n",
       "</div>"
      ],
      "text/plain": [
       "                event_time event_type  product_id          category_id  \\\n",
       "0  2020-01-01 00:00:00 UTC       view     5809910  1602943681873052386   \n",
       "\n",
       "  category_code    brand  price    user_id  \\\n",
       "0           NaN  grattol   5.24  595414620   \n",
       "\n",
       "                           user_session  \n",
       "0  4adb70bb-edbd-4981-b60f-a05bfd32683a  "
      ]
     },
     "execution_count": 14,
     "metadata": {},
     "output_type": "execute_result"
    }
   ],
   "source": [
    "jan_2020.head(1)"
   ]
  },
  {
   "cell_type": "code",
   "execution_count": 15,
   "metadata": {},
   "outputs": [
    {
     "name": "stdout",
     "output_type": "stream",
     "text": [
      "<class 'pandas.core.frame.DataFrame'>\n",
      "RangeIndex: 4156682 entries, 0 to 4156681\n",
      "Data columns (total 9 columns):\n",
      " #   Column         Dtype  \n",
      "---  ------         -----  \n",
      " 0   event_time     object \n",
      " 1   event_type     object \n",
      " 2   product_id     int64  \n",
      " 3   category_id    int64  \n",
      " 4   category_code  object \n",
      " 5   brand          object \n",
      " 6   price          float64\n",
      " 7   user_id        int64  \n",
      " 8   user_session   object \n",
      "dtypes: float64(1), int64(3), object(5)\n",
      "memory usage: 285.4+ MB\n"
     ]
    }
   ],
   "source": [
    "feb_2020.info()"
   ]
  },
  {
   "cell_type": "code",
   "execution_count": 16,
   "metadata": {},
   "outputs": [
    {
     "data": {
      "text/html": [
       "<div>\n",
       "<style scoped>\n",
       "    .dataframe tbody tr th:only-of-type {\n",
       "        vertical-align: middle;\n",
       "    }\n",
       "\n",
       "    .dataframe tbody tr th {\n",
       "        vertical-align: top;\n",
       "    }\n",
       "\n",
       "    .dataframe thead th {\n",
       "        text-align: right;\n",
       "    }\n",
       "</style>\n",
       "<table border=\"1\" class=\"dataframe\">\n",
       "  <thead>\n",
       "    <tr style=\"text-align: right;\">\n",
       "      <th></th>\n",
       "      <th>event_time</th>\n",
       "      <th>event_type</th>\n",
       "      <th>product_id</th>\n",
       "      <th>category_id</th>\n",
       "      <th>category_code</th>\n",
       "      <th>brand</th>\n",
       "      <th>price</th>\n",
       "      <th>user_id</th>\n",
       "      <th>user_session</th>\n",
       "    </tr>\n",
       "  </thead>\n",
       "  <tbody>\n",
       "    <tr>\n",
       "      <th>0</th>\n",
       "      <td>2020-02-01 00:00:01 UTC</td>\n",
       "      <td>cart</td>\n",
       "      <td>5844305</td>\n",
       "      <td>1487580006317032337</td>\n",
       "      <td>NaN</td>\n",
       "      <td>NaN</td>\n",
       "      <td>2.14</td>\n",
       "      <td>485174092</td>\n",
       "      <td>4be9643a-420b-4c6b-83dd-a15e772fbf7a</td>\n",
       "    </tr>\n",
       "  </tbody>\n",
       "</table>\n",
       "</div>"
      ],
      "text/plain": [
       "                event_time event_type  product_id          category_id  \\\n",
       "0  2020-02-01 00:00:01 UTC       cart     5844305  1487580006317032337   \n",
       "\n",
       "  category_code brand  price    user_id                          user_session  \n",
       "0           NaN   NaN   2.14  485174092  4be9643a-420b-4c6b-83dd-a15e772fbf7a  "
      ]
     },
     "execution_count": 16,
     "metadata": {},
     "output_type": "execute_result"
    }
   ],
   "source": [
    "feb_2020.head(1)"
   ]
  },
  {
   "cell_type": "markdown",
   "metadata": {},
   "source": [
    "# Data Cleaning"
   ]
  },
  {
   "cell_type": "markdown",
   "metadata": {},
   "source": [
    "Make a copy of all the dataframes to not change the original."
   ]
  },
  {
   "cell_type": "code",
   "execution_count": 17,
   "metadata": {},
   "outputs": [],
   "source": [
    "oct_2019_cp = oct_2019.copy()\n",
    "nov_2019_cp = nov_2019.copy()\n",
    "dec_2019_cp = dec_2019.copy()\n",
    "jan_2020_cp = jan_2020.copy()\n",
    "feb_2020_cp = feb_2020.copy()"
   ]
  },
  {
   "cell_type": "markdown",
   "metadata": {},
   "source": [
    "Drop 'category_code' column since it will not be needed for analysis."
   ]
  },
  {
   "cell_type": "code",
   "execution_count": 18,
   "metadata": {},
   "outputs": [],
   "source": [
    "def drop_catcode(df):\n",
    "    df = df.drop(columns=['category_code'])\n",
    "    return df\n",
    "    \n",
    "oct_2019_cp = drop_catcode(oct_2019_cp)\n",
    "nov_2019_cp = drop_catcode(nov_2019_cp)\n",
    "dec_2019_cp = drop_catcode(dec_2019_cp)\n",
    "jan_2020_cp = drop_catcode(jan_2020_cp)\n",
    "feb_2020_cp = drop_catcode(feb_2020_cp)"
   ]
  },
  {
   "cell_type": "markdown",
   "metadata": {},
   "source": [
    "Count the nulls in each df"
   ]
  },
  {
   "cell_type": "code",
   "execution_count": 19,
   "metadata": {},
   "outputs": [],
   "source": [
    "def count_null(df):\n",
    "    if df.event_time.str[5:7][0] == '10':\n",
    "        name = 'Oct 2019'\n",
    "    if df.event_time.str[5:7][0] == '11':\n",
    "        name = 'Nov 2019'\n",
    "    if df.event_time.str[5:7][0] == '12':\n",
    "        name = 'Dec 2019'\n",
    "    if df.event_time.str[5:7][0] == '01':\n",
    "        name = 'Jan 2020'\n",
    "    if df.event_time.str[5:7][0] == '02':\n",
    "        name = 'Feb 2020'\n",
    "    print(f'{name} event_time nulls:',df.event_time.isna().sum())\n",
    "    print(f'{name} event_type nulls:',df.event_type.isna().sum())\n",
    "    print(f'{name} product_id nulls:',df.product_id.isna().sum())\n",
    "    print(f'{name} category_id nulls:',df.category_id.isna().sum())\n",
    "    print(f'{name} brand nulls:',df.brand.isna().sum())\n",
    "    print(f'{name} price nulls:',df.price.isna().sum())\n",
    "    print(f'{name} user_id nulls:',df.user_id.isna().sum())\n",
    "    print(f'{name} user_session nulls:',df.user_session.isna().sum())"
   ]
  },
  {
   "cell_type": "code",
   "execution_count": 20,
   "metadata": {},
   "outputs": [
    {
     "name": "stdout",
     "output_type": "stream",
     "text": [
      "Oct 2019 event_time nulls: 0\n",
      "Oct 2019 event_type nulls: 0\n",
      "Oct 2019 product_id nulls: 0\n",
      "Oct 2019 category_id nulls: 0\n",
      "Oct 2019 brand nulls: 1659261\n",
      "Oct 2019 price nulls: 0\n",
      "Oct 2019 user_id nulls: 0\n",
      "Oct 2019 user_session nulls: 637\n"
     ]
    }
   ],
   "source": [
    "count_null(oct_2019_cp)"
   ]
  },
  {
   "cell_type": "code",
   "execution_count": 21,
   "metadata": {},
   "outputs": [
    {
     "name": "stdout",
     "output_type": "stream",
     "text": [
      "Nov 2019 event_time nulls: 0\n",
      "Nov 2019 event_type nulls: 0\n",
      "Nov 2019 product_id nulls: 0\n",
      "Nov 2019 category_id nulls: 0\n",
      "Nov 2019 brand nulls: 1986029\n",
      "Nov 2019 price nulls: 0\n",
      "Nov 2019 user_id nulls: 0\n",
      "Nov 2019 user_session nulls: 813\n"
     ]
    }
   ],
   "source": [
    "count_null(nov_2019_cp)"
   ]
  },
  {
   "cell_type": "code",
   "execution_count": 22,
   "metadata": {},
   "outputs": [
    {
     "name": "stdout",
     "output_type": "stream",
     "text": [
      "Dec 2019 event_time nulls: 0\n",
      "Dec 2019 event_type nulls: 0\n",
      "Dec 2019 product_id nulls: 0\n",
      "Dec 2019 category_id nulls: 0\n",
      "Dec 2019 brand nulls: 1510289\n",
      "Dec 2019 price nulls: 0\n",
      "Dec 2019 user_id nulls: 0\n",
      "Dec 2019 user_session nulls: 779\n"
     ]
    }
   ],
   "source": [
    "count_null(dec_2019_cp)"
   ]
  },
  {
   "cell_type": "code",
   "execution_count": 23,
   "metadata": {},
   "outputs": [
    {
     "name": "stdout",
     "output_type": "stream",
     "text": [
      "Jan 2020 event_time nulls: 0\n",
      "Jan 2020 event_type nulls: 0\n",
      "Jan 2020 product_id nulls: 0\n",
      "Jan 2020 category_id nulls: 0\n",
      "Jan 2020 brand nulls: 1775630\n",
      "Jan 2020 price nulls: 0\n",
      "Jan 2020 user_id nulls: 0\n",
      "Jan 2020 user_session nulls: 1314\n"
     ]
    }
   ],
   "source": [
    "count_null(jan_2020_cp)"
   ]
  },
  {
   "cell_type": "code",
   "execution_count": 24,
   "metadata": {},
   "outputs": [
    {
     "name": "stdout",
     "output_type": "stream",
     "text": [
      "Feb 2020 event_time nulls: 0\n",
      "Feb 2020 event_type nulls: 0\n",
      "Feb 2020 product_id nulls: 0\n",
      "Feb 2020 category_id nulls: 0\n",
      "Feb 2020 brand nulls: 1825908\n",
      "Feb 2020 price nulls: 0\n",
      "Feb 2020 user_id nulls: 0\n",
      "Feb 2020 user_session nulls: 1055\n"
     ]
    }
   ],
   "source": [
    "count_null(feb_2020_cp)"
   ]
  },
  {
   "cell_type": "markdown",
   "metadata": {},
   "source": [
    "Remove Nulls & Reset Index"
   ]
  },
  {
   "cell_type": "code",
   "execution_count": 25,
   "metadata": {},
   "outputs": [],
   "source": [
    "def rem_null(df):\n",
    "    df = df.loc[df.user_session.notnull()].reset_index()\n",
    "    df = df.loc[df.brand.notnull()].reset_index()\n",
    "    return df"
   ]
  },
  {
   "cell_type": "code",
   "execution_count": 26,
   "metadata": {},
   "outputs": [],
   "source": [
    "oct_2019_cp = rem_null(oct_2019_cp)\n",
    "nov_2019_cp = rem_null(nov_2019_cp)\n",
    "dec_2019_cp = rem_null(dec_2019_cp)\n",
    "jan_2020_cp = rem_null(jan_2020_cp)\n",
    "feb_2020_cp = rem_null(feb_2020_cp)"
   ]
  },
  {
   "cell_type": "markdown",
   "metadata": {},
   "source": [
    "Check that nulls were removed"
   ]
  },
  {
   "cell_type": "code",
   "execution_count": 27,
   "metadata": {},
   "outputs": [
    {
     "name": "stdout",
     "output_type": "stream",
     "text": [
      "Oct 2019 event_time nulls: 0\n",
      "Oct 2019 event_type nulls: 0\n",
      "Oct 2019 product_id nulls: 0\n",
      "Oct 2019 category_id nulls: 0\n",
      "Oct 2019 brand nulls: 0\n",
      "Oct 2019 price nulls: 0\n",
      "Oct 2019 user_id nulls: 0\n",
      "Oct 2019 user_session nulls: 0\n"
     ]
    }
   ],
   "source": [
    "count_null(oct_2019_cp)"
   ]
  },
  {
   "cell_type": "code",
   "execution_count": 28,
   "metadata": {},
   "outputs": [
    {
     "name": "stdout",
     "output_type": "stream",
     "text": [
      "Nov 2019 event_time nulls: 0\n",
      "Nov 2019 event_type nulls: 0\n",
      "Nov 2019 product_id nulls: 0\n",
      "Nov 2019 category_id nulls: 0\n",
      "Nov 2019 brand nulls: 0\n",
      "Nov 2019 price nulls: 0\n",
      "Nov 2019 user_id nulls: 0\n",
      "Nov 2019 user_session nulls: 0\n"
     ]
    }
   ],
   "source": [
    "count_null(nov_2019_cp)"
   ]
  },
  {
   "cell_type": "code",
   "execution_count": 29,
   "metadata": {},
   "outputs": [
    {
     "name": "stdout",
     "output_type": "stream",
     "text": [
      "Dec 2019 event_time nulls: 0\n",
      "Dec 2019 event_type nulls: 0\n",
      "Dec 2019 product_id nulls: 0\n",
      "Dec 2019 category_id nulls: 0\n",
      "Dec 2019 brand nulls: 0\n",
      "Dec 2019 price nulls: 0\n",
      "Dec 2019 user_id nulls: 0\n",
      "Dec 2019 user_session nulls: 0\n"
     ]
    }
   ],
   "source": [
    "count_null(dec_2019_cp)"
   ]
  },
  {
   "cell_type": "code",
   "execution_count": 30,
   "metadata": {},
   "outputs": [
    {
     "name": "stdout",
     "output_type": "stream",
     "text": [
      "Jan 2020 event_time nulls: 0\n",
      "Jan 2020 event_type nulls: 0\n",
      "Jan 2020 product_id nulls: 0\n",
      "Jan 2020 category_id nulls: 0\n",
      "Jan 2020 brand nulls: 0\n",
      "Jan 2020 price nulls: 0\n",
      "Jan 2020 user_id nulls: 0\n",
      "Jan 2020 user_session nulls: 0\n"
     ]
    }
   ],
   "source": [
    "count_null(jan_2020_cp)"
   ]
  },
  {
   "cell_type": "code",
   "execution_count": 31,
   "metadata": {},
   "outputs": [
    {
     "name": "stdout",
     "output_type": "stream",
     "text": [
      "Feb 2020 event_time nulls: 0\n",
      "Feb 2020 event_type nulls: 0\n",
      "Feb 2020 product_id nulls: 0\n",
      "Feb 2020 category_id nulls: 0\n",
      "Feb 2020 brand nulls: 0\n",
      "Feb 2020 price nulls: 0\n",
      "Feb 2020 user_id nulls: 0\n",
      "Feb 2020 user_session nulls: 0\n"
     ]
    }
   ],
   "source": [
    "count_null(feb_2020_cp)"
   ]
  },
  {
   "cell_type": "markdown",
   "metadata": {},
   "source": [
    "Find price range"
   ]
  },
  {
   "cell_type": "code",
   "execution_count": 32,
   "metadata": {},
   "outputs": [
    {
     "name": "stdout",
     "output_type": "stream",
     "text": [
      "Min: 0.0 Max: 307.6\n",
      "Min: 0.0 Max: 327.78\n",
      "Min: 0.0 Max: 327.78\n",
      "Min: 0.0 Max: 327.78\n",
      "Min: 0.06 Max: 327.78\n"
     ]
    }
   ],
   "source": [
    "print('Min:', oct_2019_cp.price.min(), 'Max:', oct_2019_cp.price.max())\n",
    "print('Min:', nov_2019_cp.price.min(), 'Max:', nov_2019_cp.price.max())\n",
    "print('Min:', dec_2019_cp.price.min(), 'Max:', dec_2019_cp.price.max())\n",
    "print('Min:', jan_2020_cp.price.min(), 'Max:', jan_2020_cp.price.max())\n",
    "print('Min:', feb_2020_cp.price.min(), 'Max:', feb_2020_cp.price.max())"
   ]
  },
  {
   "cell_type": "markdown",
   "metadata": {},
   "source": [
    "# Change event_time column"
   ]
  },
  {
   "cell_type": "markdown",
   "metadata": {},
   "source": [
    "Function splits the string of event_time into individual columns"
   ]
  },
  {
   "cell_type": "code",
   "execution_count": 33,
   "metadata": {},
   "outputs": [],
   "source": [
    "def add_time_cols(df):\n",
    "    df['date'] = df.event_time.str[:10]\n",
    "    df['year'] = df.event_time.str[:4]\n",
    "    df['month'] = df.event_time.str[5:7]\n",
    "    df['day'] = df.event_time.str[8:10]\n",
    "    df['time_utc'] = df.event_time.str[11:19]\n",
    "    return df"
   ]
  },
  {
   "cell_type": "code",
   "execution_count": 34,
   "metadata": {},
   "outputs": [],
   "source": [
    "oct_2019_cp = add_time_cols(oct_2019_cp)\n",
    "nov_2019_cp = add_time_cols(nov_2019_cp)\n",
    "dec_2019_cp = add_time_cols(dec_2019_cp)\n",
    "jan_2020_cp = add_time_cols(jan_2020_cp)\n",
    "feb_2020_cp = add_time_cols(feb_2020_cp)"
   ]
  },
  {
   "cell_type": "markdown",
   "metadata": {},
   "source": [
    "# Datetime Conversion"
   ]
  },
  {
   "cell_type": "markdown",
   "metadata": {},
   "source": [
    "Function converts the column 'date' into datetime"
   ]
  },
  {
   "cell_type": "code",
   "execution_count": 35,
   "metadata": {},
   "outputs": [],
   "source": [
    "def date_conversion(df):\n",
    "    df['date'] = pd.to_datetime(df['date'])\n",
    "    return df\n",
    "\n",
    "oct_2019_cp = date_conversion(oct_2019_cp)\n",
    "nov_2019_cp = date_conversion(nov_2019_cp)\n",
    "dec_2019_cp = date_conversion(dec_2019_cp)\n",
    "jan_2020_cp = date_conversion(jan_2020_cp)\n",
    "feb_2020_cp = date_conversion(feb_2020_cp)"
   ]
  },
  {
   "cell_type": "markdown",
   "metadata": {},
   "source": [
    "Function creates a column 'dow' representing day of the week, where Monday = 0 and Sunday = 6"
   ]
  },
  {
   "cell_type": "code",
   "execution_count": 36,
   "metadata": {},
   "outputs": [],
   "source": [
    "def dow(df):\n",
    "    df['dow'] = df.date.dt.dayofweek\n",
    "    return df\n",
    "\n",
    "oct_2019_cp = dow(oct_2019_cp)\n",
    "nov_2019_cp = dow(nov_2019_cp)\n",
    "dec_2019_cp = dow(dec_2019_cp)\n",
    "jan_2020_cp = dow(jan_2020_cp)\n",
    "feb_2020_cp = dow(feb_2020_cp)"
   ]
  },
  {
   "cell_type": "markdown",
   "metadata": {},
   "source": [
    "Function reorders the columns"
   ]
  },
  {
   "cell_type": "code",
   "execution_count": 37,
   "metadata": {},
   "outputs": [],
   "source": [
    "def reorder_col(df):\n",
    "    df = df[['date','year','month','day','dow','time_utc','event_type','product_id','category_id','brand','price','user_id','user_session']]\n",
    "    return df\n",
    "\n",
    "oct_2019_cp = reorder_col(oct_2019_cp)\n",
    "nov_2019_cp = reorder_col(nov_2019_cp)\n",
    "dec_2019_cp = reorder_col(dec_2019_cp)\n",
    "jan_2020_cp = reorder_col(jan_2020_cp)\n",
    "feb_2020_cp = reorder_col(feb_2020_cp)    "
   ]
  },
  {
   "cell_type": "code",
   "execution_count": 38,
   "metadata": {},
   "outputs": [
    {
     "data": {
      "text/html": [
       "<div>\n",
       "<style scoped>\n",
       "    .dataframe tbody tr th:only-of-type {\n",
       "        vertical-align: middle;\n",
       "    }\n",
       "\n",
       "    .dataframe tbody tr th {\n",
       "        vertical-align: top;\n",
       "    }\n",
       "\n",
       "    .dataframe thead th {\n",
       "        text-align: right;\n",
       "    }\n",
       "</style>\n",
       "<table border=\"1\" class=\"dataframe\">\n",
       "  <thead>\n",
       "    <tr style=\"text-align: right;\">\n",
       "      <th></th>\n",
       "      <th>date</th>\n",
       "      <th>year</th>\n",
       "      <th>month</th>\n",
       "      <th>day</th>\n",
       "      <th>dow</th>\n",
       "      <th>time_utc</th>\n",
       "      <th>event_type</th>\n",
       "      <th>product_id</th>\n",
       "      <th>category_id</th>\n",
       "      <th>brand</th>\n",
       "      <th>price</th>\n",
       "      <th>user_id</th>\n",
       "      <th>user_session</th>\n",
       "    </tr>\n",
       "  </thead>\n",
       "  <tbody>\n",
       "    <tr>\n",
       "      <th>0</th>\n",
       "      <td>2019-10-01</td>\n",
       "      <td>2019</td>\n",
       "      <td>10</td>\n",
       "      <td>01</td>\n",
       "      <td>1</td>\n",
       "      <td>00:00:00</td>\n",
       "      <td>cart</td>\n",
       "      <td>5773203</td>\n",
       "      <td>1487580005134238553</td>\n",
       "      <td>runail</td>\n",
       "      <td>2.62</td>\n",
       "      <td>463240011</td>\n",
       "      <td>26dd6e6e-4dac-4778-8d2c-92e149dab885</td>\n",
       "    </tr>\n",
       "  </tbody>\n",
       "</table>\n",
       "</div>"
      ],
      "text/plain": [
       "        date  year month day  dow  time_utc event_type  product_id  \\\n",
       "0 2019-10-01  2019    10  01    1  00:00:00       cart     5773203   \n",
       "\n",
       "           category_id   brand  price    user_id  \\\n",
       "0  1487580005134238553  runail   2.62  463240011   \n",
       "\n",
       "                           user_session  \n",
       "0  26dd6e6e-4dac-4778-8d2c-92e149dab885  "
      ]
     },
     "execution_count": 38,
     "metadata": {},
     "output_type": "execute_result"
    }
   ],
   "source": [
    "oct_2019_cp.head(1)"
   ]
  },
  {
   "cell_type": "code",
   "execution_count": 39,
   "metadata": {},
   "outputs": [
    {
     "data": {
      "text/html": [
       "<div>\n",
       "<style scoped>\n",
       "    .dataframe tbody tr th:only-of-type {\n",
       "        vertical-align: middle;\n",
       "    }\n",
       "\n",
       "    .dataframe tbody tr th {\n",
       "        vertical-align: top;\n",
       "    }\n",
       "\n",
       "    .dataframe thead th {\n",
       "        text-align: right;\n",
       "    }\n",
       "</style>\n",
       "<table border=\"1\" class=\"dataframe\">\n",
       "  <thead>\n",
       "    <tr style=\"text-align: right;\">\n",
       "      <th></th>\n",
       "      <th>date</th>\n",
       "      <th>year</th>\n",
       "      <th>month</th>\n",
       "      <th>day</th>\n",
       "      <th>dow</th>\n",
       "      <th>time_utc</th>\n",
       "      <th>event_type</th>\n",
       "      <th>product_id</th>\n",
       "      <th>category_id</th>\n",
       "      <th>brand</th>\n",
       "      <th>price</th>\n",
       "      <th>user_id</th>\n",
       "      <th>user_session</th>\n",
       "    </tr>\n",
       "  </thead>\n",
       "  <tbody>\n",
       "    <tr>\n",
       "      <th>0</th>\n",
       "      <td>2019-11-01</td>\n",
       "      <td>2019</td>\n",
       "      <td>11</td>\n",
       "      <td>01</td>\n",
       "      <td>4</td>\n",
       "      <td>00:00:10</td>\n",
       "      <td>view</td>\n",
       "      <td>5837166</td>\n",
       "      <td>1783999064103190764</td>\n",
       "      <td>pnb</td>\n",
       "      <td>22.22</td>\n",
       "      <td>556138645</td>\n",
       "      <td>57ed222e-a54a-4907-9944-5a875c2d7f4f</td>\n",
       "    </tr>\n",
       "  </tbody>\n",
       "</table>\n",
       "</div>"
      ],
      "text/plain": [
       "        date  year month day  dow  time_utc event_type  product_id  \\\n",
       "0 2019-11-01  2019    11  01    4  00:00:10       view     5837166   \n",
       "\n",
       "           category_id brand  price    user_id  \\\n",
       "0  1783999064103190764   pnb  22.22  556138645   \n",
       "\n",
       "                           user_session  \n",
       "0  57ed222e-a54a-4907-9944-5a875c2d7f4f  "
      ]
     },
     "execution_count": 39,
     "metadata": {},
     "output_type": "execute_result"
    }
   ],
   "source": [
    "nov_2019_cp.head(1)"
   ]
  },
  {
   "cell_type": "code",
   "execution_count": 40,
   "metadata": {},
   "outputs": [
    {
     "data": {
      "text/html": [
       "<div>\n",
       "<style scoped>\n",
       "    .dataframe tbody tr th:only-of-type {\n",
       "        vertical-align: middle;\n",
       "    }\n",
       "\n",
       "    .dataframe tbody tr th {\n",
       "        vertical-align: top;\n",
       "    }\n",
       "\n",
       "    .dataframe thead th {\n",
       "        text-align: right;\n",
       "    }\n",
       "</style>\n",
       "<table border=\"1\" class=\"dataframe\">\n",
       "  <thead>\n",
       "    <tr style=\"text-align: right;\">\n",
       "      <th></th>\n",
       "      <th>date</th>\n",
       "      <th>year</th>\n",
       "      <th>month</th>\n",
       "      <th>day</th>\n",
       "      <th>dow</th>\n",
       "      <th>time_utc</th>\n",
       "      <th>event_type</th>\n",
       "      <th>product_id</th>\n",
       "      <th>category_id</th>\n",
       "      <th>brand</th>\n",
       "      <th>price</th>\n",
       "      <th>user_id</th>\n",
       "      <th>user_session</th>\n",
       "    </tr>\n",
       "  </thead>\n",
       "  <tbody>\n",
       "    <tr>\n",
       "      <th>0</th>\n",
       "      <td>2019-12-01</td>\n",
       "      <td>2019</td>\n",
       "      <td>12</td>\n",
       "      <td>01</td>\n",
       "      <td>6</td>\n",
       "      <td>00:00:00</td>\n",
       "      <td>remove_from_cart</td>\n",
       "      <td>5712790</td>\n",
       "      <td>1487580005268456287</td>\n",
       "      <td>f.o.x</td>\n",
       "      <td>6.27</td>\n",
       "      <td>576802932</td>\n",
       "      <td>51d85cb0-897f-48d2-918b-ad63965c12dc</td>\n",
       "    </tr>\n",
       "  </tbody>\n",
       "</table>\n",
       "</div>"
      ],
      "text/plain": [
       "        date  year month day  dow  time_utc        event_type  product_id  \\\n",
       "0 2019-12-01  2019    12  01    6  00:00:00  remove_from_cart     5712790   \n",
       "\n",
       "           category_id  brand  price    user_id  \\\n",
       "0  1487580005268456287  f.o.x   6.27  576802932   \n",
       "\n",
       "                           user_session  \n",
       "0  51d85cb0-897f-48d2-918b-ad63965c12dc  "
      ]
     },
     "execution_count": 40,
     "metadata": {},
     "output_type": "execute_result"
    }
   ],
   "source": [
    "dec_2019_cp.head(1)"
   ]
  },
  {
   "cell_type": "code",
   "execution_count": 41,
   "metadata": {},
   "outputs": [
    {
     "data": {
      "text/html": [
       "<div>\n",
       "<style scoped>\n",
       "    .dataframe tbody tr th:only-of-type {\n",
       "        vertical-align: middle;\n",
       "    }\n",
       "\n",
       "    .dataframe tbody tr th {\n",
       "        vertical-align: top;\n",
       "    }\n",
       "\n",
       "    .dataframe thead th {\n",
       "        text-align: right;\n",
       "    }\n",
       "</style>\n",
       "<table border=\"1\" class=\"dataframe\">\n",
       "  <thead>\n",
       "    <tr style=\"text-align: right;\">\n",
       "      <th></th>\n",
       "      <th>date</th>\n",
       "      <th>year</th>\n",
       "      <th>month</th>\n",
       "      <th>day</th>\n",
       "      <th>dow</th>\n",
       "      <th>time_utc</th>\n",
       "      <th>event_type</th>\n",
       "      <th>product_id</th>\n",
       "      <th>category_id</th>\n",
       "      <th>brand</th>\n",
       "      <th>price</th>\n",
       "      <th>user_id</th>\n",
       "      <th>user_session</th>\n",
       "    </tr>\n",
       "  </thead>\n",
       "  <tbody>\n",
       "    <tr>\n",
       "      <th>0</th>\n",
       "      <td>2020-01-01</td>\n",
       "      <td>2020</td>\n",
       "      <td>01</td>\n",
       "      <td>01</td>\n",
       "      <td>2</td>\n",
       "      <td>00:00:00</td>\n",
       "      <td>view</td>\n",
       "      <td>5809910</td>\n",
       "      <td>1602943681873052386</td>\n",
       "      <td>grattol</td>\n",
       "      <td>5.24</td>\n",
       "      <td>595414620</td>\n",
       "      <td>4adb70bb-edbd-4981-b60f-a05bfd32683a</td>\n",
       "    </tr>\n",
       "  </tbody>\n",
       "</table>\n",
       "</div>"
      ],
      "text/plain": [
       "        date  year month day  dow  time_utc event_type  product_id  \\\n",
       "0 2020-01-01  2020    01  01    2  00:00:00       view     5809910   \n",
       "\n",
       "           category_id    brand  price    user_id  \\\n",
       "0  1602943681873052386  grattol   5.24  595414620   \n",
       "\n",
       "                           user_session  \n",
       "0  4adb70bb-edbd-4981-b60f-a05bfd32683a  "
      ]
     },
     "execution_count": 41,
     "metadata": {},
     "output_type": "execute_result"
    }
   ],
   "source": [
    "jan_2020_cp.head(1)"
   ]
  },
  {
   "cell_type": "code",
   "execution_count": 42,
   "metadata": {},
   "outputs": [
    {
     "data": {
      "text/html": [
       "<div>\n",
       "<style scoped>\n",
       "    .dataframe tbody tr th:only-of-type {\n",
       "        vertical-align: middle;\n",
       "    }\n",
       "\n",
       "    .dataframe tbody tr th {\n",
       "        vertical-align: top;\n",
       "    }\n",
       "\n",
       "    .dataframe thead th {\n",
       "        text-align: right;\n",
       "    }\n",
       "</style>\n",
       "<table border=\"1\" class=\"dataframe\">\n",
       "  <thead>\n",
       "    <tr style=\"text-align: right;\">\n",
       "      <th></th>\n",
       "      <th>date</th>\n",
       "      <th>year</th>\n",
       "      <th>month</th>\n",
       "      <th>day</th>\n",
       "      <th>dow</th>\n",
       "      <th>time_utc</th>\n",
       "      <th>event_type</th>\n",
       "      <th>product_id</th>\n",
       "      <th>category_id</th>\n",
       "      <th>brand</th>\n",
       "      <th>price</th>\n",
       "      <th>user_id</th>\n",
       "      <th>user_session</th>\n",
       "    </tr>\n",
       "  </thead>\n",
       "  <tbody>\n",
       "    <tr>\n",
       "      <th>0</th>\n",
       "      <td>2020-02-01</td>\n",
       "      <td>2020</td>\n",
       "      <td>02</td>\n",
       "      <td>01</td>\n",
       "      <td>5</td>\n",
       "      <td>00:00:03</td>\n",
       "      <td>view</td>\n",
       "      <td>5769925</td>\n",
       "      <td>1487580013841613016</td>\n",
       "      <td>kapous</td>\n",
       "      <td>4.22</td>\n",
       "      <td>594621622</td>\n",
       "      <td>a88baf11-9cd0-4362-bde4-1bfeed3f641d</td>\n",
       "    </tr>\n",
       "  </tbody>\n",
       "</table>\n",
       "</div>"
      ],
      "text/plain": [
       "        date  year month day  dow  time_utc event_type  product_id  \\\n",
       "0 2020-02-01  2020    02  01    5  00:00:03       view     5769925   \n",
       "\n",
       "           category_id   brand  price    user_id  \\\n",
       "0  1487580013841613016  kapous   4.22  594621622   \n",
       "\n",
       "                           user_session  \n",
       "0  a88baf11-9cd0-4362-bde4-1bfeed3f641d  "
      ]
     },
     "execution_count": 42,
     "metadata": {},
     "output_type": "execute_result"
    }
   ],
   "source": [
    "feb_2020_cp.head(1)"
   ]
  },
  {
   "cell_type": "markdown",
   "metadata": {},
   "source": [
    "# Append rows together to make one final dataframe"
   ]
  },
  {
   "cell_type": "code",
   "execution_count": 43,
   "metadata": {},
   "outputs": [
    {
     "data": {
      "text/html": [
       "<div>\n",
       "<style scoped>\n",
       "    .dataframe tbody tr th:only-of-type {\n",
       "        vertical-align: middle;\n",
       "    }\n",
       "\n",
       "    .dataframe tbody tr th {\n",
       "        vertical-align: top;\n",
       "    }\n",
       "\n",
       "    .dataframe thead th {\n",
       "        text-align: right;\n",
       "    }\n",
       "</style>\n",
       "<table border=\"1\" class=\"dataframe\">\n",
       "  <thead>\n",
       "    <tr style=\"text-align: right;\">\n",
       "      <th></th>\n",
       "      <th>date</th>\n",
       "      <th>year</th>\n",
       "      <th>month</th>\n",
       "      <th>day</th>\n",
       "      <th>dow</th>\n",
       "      <th>time_utc</th>\n",
       "      <th>event_type</th>\n",
       "      <th>product_id</th>\n",
       "      <th>category_id</th>\n",
       "      <th>brand</th>\n",
       "      <th>price</th>\n",
       "      <th>user_id</th>\n",
       "      <th>user_session</th>\n",
       "    </tr>\n",
       "  </thead>\n",
       "  <tbody>\n",
       "    <tr>\n",
       "      <th>0</th>\n",
       "      <td>2019-10-01</td>\n",
       "      <td>2019</td>\n",
       "      <td>10</td>\n",
       "      <td>01</td>\n",
       "      <td>1</td>\n",
       "      <td>00:00:00</td>\n",
       "      <td>cart</td>\n",
       "      <td>5773203</td>\n",
       "      <td>1487580005134238553</td>\n",
       "      <td>runail</td>\n",
       "      <td>2.62</td>\n",
       "      <td>463240011</td>\n",
       "      <td>26dd6e6e-4dac-4778-8d2c-92e149dab885</td>\n",
       "    </tr>\n",
       "    <tr>\n",
       "      <th>1</th>\n",
       "      <td>2019-10-01</td>\n",
       "      <td>2019</td>\n",
       "      <td>10</td>\n",
       "      <td>01</td>\n",
       "      <td>1</td>\n",
       "      <td>00:00:03</td>\n",
       "      <td>cart</td>\n",
       "      <td>5773353</td>\n",
       "      <td>1487580005134238553</td>\n",
       "      <td>runail</td>\n",
       "      <td>2.62</td>\n",
       "      <td>463240011</td>\n",
       "      <td>26dd6e6e-4dac-4778-8d2c-92e149dab885</td>\n",
       "    </tr>\n",
       "    <tr>\n",
       "      <th>2</th>\n",
       "      <td>2019-10-01</td>\n",
       "      <td>2019</td>\n",
       "      <td>10</td>\n",
       "      <td>01</td>\n",
       "      <td>1</td>\n",
       "      <td>00:00:07</td>\n",
       "      <td>cart</td>\n",
       "      <td>5881589</td>\n",
       "      <td>2151191071051219817</td>\n",
       "      <td>lovely</td>\n",
       "      <td>13.48</td>\n",
       "      <td>429681830</td>\n",
       "      <td>49e8d843-adf3-428b-a2c3-fe8bc6a307c9</td>\n",
       "    </tr>\n",
       "    <tr>\n",
       "      <th>3</th>\n",
       "      <td>2019-10-01</td>\n",
       "      <td>2019</td>\n",
       "      <td>10</td>\n",
       "      <td>01</td>\n",
       "      <td>1</td>\n",
       "      <td>00:00:07</td>\n",
       "      <td>cart</td>\n",
       "      <td>5723490</td>\n",
       "      <td>1487580005134238553</td>\n",
       "      <td>runail</td>\n",
       "      <td>2.62</td>\n",
       "      <td>463240011</td>\n",
       "      <td>26dd6e6e-4dac-4778-8d2c-92e149dab885</td>\n",
       "    </tr>\n",
       "    <tr>\n",
       "      <th>4</th>\n",
       "      <td>2019-10-01</td>\n",
       "      <td>2019</td>\n",
       "      <td>10</td>\n",
       "      <td>01</td>\n",
       "      <td>1</td>\n",
       "      <td>00:00:15</td>\n",
       "      <td>cart</td>\n",
       "      <td>5881449</td>\n",
       "      <td>1487580013522845895</td>\n",
       "      <td>lovely</td>\n",
       "      <td>0.56</td>\n",
       "      <td>429681830</td>\n",
       "      <td>49e8d843-adf3-428b-a2c3-fe8bc6a307c9</td>\n",
       "    </tr>\n",
       "    <tr>\n",
       "      <th>...</th>\n",
       "      <td>...</td>\n",
       "      <td>...</td>\n",
       "      <td>...</td>\n",
       "      <td>...</td>\n",
       "      <td>...</td>\n",
       "      <td>...</td>\n",
       "      <td>...</td>\n",
       "      <td>...</td>\n",
       "      <td>...</td>\n",
       "      <td>...</td>\n",
       "      <td>...</td>\n",
       "      <td>...</td>\n",
       "      <td>...</td>\n",
       "    </tr>\n",
       "    <tr>\n",
       "      <th>5091904</th>\n",
       "      <td>2019-11-30</td>\n",
       "      <td>2019</td>\n",
       "      <td>11</td>\n",
       "      <td>30</td>\n",
       "      <td>5</td>\n",
       "      <td>23:59:27</td>\n",
       "      <td>remove_from_cart</td>\n",
       "      <td>5801131</td>\n",
       "      <td>1487580005486560104</td>\n",
       "      <td>irisk</td>\n",
       "      <td>3.65</td>\n",
       "      <td>566513990</td>\n",
       "      <td>b5053009-b3c4-4581-b05f-6199d1a2037e</td>\n",
       "    </tr>\n",
       "    <tr>\n",
       "      <th>5091905</th>\n",
       "      <td>2019-11-30</td>\n",
       "      <td>2019</td>\n",
       "      <td>11</td>\n",
       "      <td>30</td>\n",
       "      <td>5</td>\n",
       "      <td>23:59:32</td>\n",
       "      <td>view</td>\n",
       "      <td>5795387</td>\n",
       "      <td>1487580005713052531</td>\n",
       "      <td>ingarden</td>\n",
       "      <td>7.14</td>\n",
       "      <td>576802932</td>\n",
       "      <td>2dc9ed07-93bb-47db-abe7-e9d88ed7ae94</td>\n",
       "    </tr>\n",
       "    <tr>\n",
       "      <th>5091906</th>\n",
       "      <td>2019-11-30</td>\n",
       "      <td>2019</td>\n",
       "      <td>11</td>\n",
       "      <td>30</td>\n",
       "      <td>5</td>\n",
       "      <td>23:59:47</td>\n",
       "      <td>view</td>\n",
       "      <td>5733064</td>\n",
       "      <td>1487580004832248652</td>\n",
       "      <td>beautix</td>\n",
       "      <td>9.37</td>\n",
       "      <td>422196217</td>\n",
       "      <td>ab5e6dd5-8700-4ecc-a300-9f1eca5d1a95</td>\n",
       "    </tr>\n",
       "    <tr>\n",
       "      <th>5091907</th>\n",
       "      <td>2019-11-30</td>\n",
       "      <td>2019</td>\n",
       "      <td>11</td>\n",
       "      <td>30</td>\n",
       "      <td>5</td>\n",
       "      <td>23:59:47</td>\n",
       "      <td>view</td>\n",
       "      <td>5867785</td>\n",
       "      <td>1487580007835370453</td>\n",
       "      <td>kims</td>\n",
       "      <td>31.10</td>\n",
       "      <td>572579084</td>\n",
       "      <td>d42865b7-7e04-4038-9be0-a59165625f06</td>\n",
       "    </tr>\n",
       "    <tr>\n",
       "      <th>5091908</th>\n",
       "      <td>2019-11-30</td>\n",
       "      <td>2019</td>\n",
       "      <td>11</td>\n",
       "      <td>30</td>\n",
       "      <td>5</td>\n",
       "      <td>23:59:58</td>\n",
       "      <td>view</td>\n",
       "      <td>5880201</td>\n",
       "      <td>2029731308699124089</td>\n",
       "      <td>rasyan</td>\n",
       "      <td>3.76</td>\n",
       "      <td>579969854</td>\n",
       "      <td>e9fa2c3e-8c9e-448c-880a-21ca57c18b3b</td>\n",
       "    </tr>\n",
       "  </tbody>\n",
       "</table>\n",
       "<p>5091909 rows × 13 columns</p>\n",
       "</div>"
      ],
      "text/plain": [
       "              date  year month day  dow  time_utc        event_type  \\\n",
       "0       2019-10-01  2019    10  01    1  00:00:00              cart   \n",
       "1       2019-10-01  2019    10  01    1  00:00:03              cart   \n",
       "2       2019-10-01  2019    10  01    1  00:00:07              cart   \n",
       "3       2019-10-01  2019    10  01    1  00:00:07              cart   \n",
       "4       2019-10-01  2019    10  01    1  00:00:15              cart   \n",
       "...            ...   ...   ...  ..  ...       ...               ...   \n",
       "5091904 2019-11-30  2019    11  30    5  23:59:27  remove_from_cart   \n",
       "5091905 2019-11-30  2019    11  30    5  23:59:32              view   \n",
       "5091906 2019-11-30  2019    11  30    5  23:59:47              view   \n",
       "5091907 2019-11-30  2019    11  30    5  23:59:47              view   \n",
       "5091908 2019-11-30  2019    11  30    5  23:59:58              view   \n",
       "\n",
       "         product_id          category_id     brand  price    user_id  \\\n",
       "0           5773203  1487580005134238553    runail   2.62  463240011   \n",
       "1           5773353  1487580005134238553    runail   2.62  463240011   \n",
       "2           5881589  2151191071051219817    lovely  13.48  429681830   \n",
       "3           5723490  1487580005134238553    runail   2.62  463240011   \n",
       "4           5881449  1487580013522845895    lovely   0.56  429681830   \n",
       "...             ...                  ...       ...    ...        ...   \n",
       "5091904     5801131  1487580005486560104     irisk   3.65  566513990   \n",
       "5091905     5795387  1487580005713052531  ingarden   7.14  576802932   \n",
       "5091906     5733064  1487580004832248652   beautix   9.37  422196217   \n",
       "5091907     5867785  1487580007835370453      kims  31.10  572579084   \n",
       "5091908     5880201  2029731308699124089    rasyan   3.76  579969854   \n",
       "\n",
       "                                 user_session  \n",
       "0        26dd6e6e-4dac-4778-8d2c-92e149dab885  \n",
       "1        26dd6e6e-4dac-4778-8d2c-92e149dab885  \n",
       "2        49e8d843-adf3-428b-a2c3-fe8bc6a307c9  \n",
       "3        26dd6e6e-4dac-4778-8d2c-92e149dab885  \n",
       "4        49e8d843-adf3-428b-a2c3-fe8bc6a307c9  \n",
       "...                                       ...  \n",
       "5091904  b5053009-b3c4-4581-b05f-6199d1a2037e  \n",
       "5091905  2dc9ed07-93bb-47db-abe7-e9d88ed7ae94  \n",
       "5091906  ab5e6dd5-8700-4ecc-a300-9f1eca5d1a95  \n",
       "5091907  d42865b7-7e04-4038-9be0-a59165625f06  \n",
       "5091908  e9fa2c3e-8c9e-448c-880a-21ca57c18b3b  \n",
       "\n",
       "[5091909 rows x 13 columns]"
      ]
     },
     "execution_count": 43,
     "metadata": {},
     "output_type": "execute_result"
    }
   ],
   "source": [
    "oct_2019_nov_2019 = oct_2019_cp.append(nov_2019_cp, ignore_index = True)\n",
    "oct_2019_nov_2019"
   ]
  },
  {
   "cell_type": "code",
   "execution_count": 44,
   "metadata": {},
   "outputs": [
    {
     "data": {
      "text/html": [
       "<div>\n",
       "<style scoped>\n",
       "    .dataframe tbody tr th:only-of-type {\n",
       "        vertical-align: middle;\n",
       "    }\n",
       "\n",
       "    .dataframe tbody tr th {\n",
       "        vertical-align: top;\n",
       "    }\n",
       "\n",
       "    .dataframe thead th {\n",
       "        text-align: right;\n",
       "    }\n",
       "</style>\n",
       "<table border=\"1\" class=\"dataframe\">\n",
       "  <thead>\n",
       "    <tr style=\"text-align: right;\">\n",
       "      <th></th>\n",
       "      <th>date</th>\n",
       "      <th>year</th>\n",
       "      <th>month</th>\n",
       "      <th>day</th>\n",
       "      <th>dow</th>\n",
       "      <th>time_utc</th>\n",
       "      <th>event_type</th>\n",
       "      <th>product_id</th>\n",
       "      <th>category_id</th>\n",
       "      <th>brand</th>\n",
       "      <th>price</th>\n",
       "      <th>user_id</th>\n",
       "      <th>user_session</th>\n",
       "    </tr>\n",
       "  </thead>\n",
       "  <tbody>\n",
       "    <tr>\n",
       "      <th>0</th>\n",
       "      <td>2019-10-01</td>\n",
       "      <td>2019</td>\n",
       "      <td>10</td>\n",
       "      <td>01</td>\n",
       "      <td>1</td>\n",
       "      <td>00:00:00</td>\n",
       "      <td>cart</td>\n",
       "      <td>5773203</td>\n",
       "      <td>1487580005134238553</td>\n",
       "      <td>runail</td>\n",
       "      <td>2.62</td>\n",
       "      <td>463240011</td>\n",
       "      <td>26dd6e6e-4dac-4778-8d2c-92e149dab885</td>\n",
       "    </tr>\n",
       "    <tr>\n",
       "      <th>1</th>\n",
       "      <td>2019-10-01</td>\n",
       "      <td>2019</td>\n",
       "      <td>10</td>\n",
       "      <td>01</td>\n",
       "      <td>1</td>\n",
       "      <td>00:00:03</td>\n",
       "      <td>cart</td>\n",
       "      <td>5773353</td>\n",
       "      <td>1487580005134238553</td>\n",
       "      <td>runail</td>\n",
       "      <td>2.62</td>\n",
       "      <td>463240011</td>\n",
       "      <td>26dd6e6e-4dac-4778-8d2c-92e149dab885</td>\n",
       "    </tr>\n",
       "    <tr>\n",
       "      <th>2</th>\n",
       "      <td>2019-10-01</td>\n",
       "      <td>2019</td>\n",
       "      <td>10</td>\n",
       "      <td>01</td>\n",
       "      <td>1</td>\n",
       "      <td>00:00:07</td>\n",
       "      <td>cart</td>\n",
       "      <td>5881589</td>\n",
       "      <td>2151191071051219817</td>\n",
       "      <td>lovely</td>\n",
       "      <td>13.48</td>\n",
       "      <td>429681830</td>\n",
       "      <td>49e8d843-adf3-428b-a2c3-fe8bc6a307c9</td>\n",
       "    </tr>\n",
       "    <tr>\n",
       "      <th>3</th>\n",
       "      <td>2019-10-01</td>\n",
       "      <td>2019</td>\n",
       "      <td>10</td>\n",
       "      <td>01</td>\n",
       "      <td>1</td>\n",
       "      <td>00:00:07</td>\n",
       "      <td>cart</td>\n",
       "      <td>5723490</td>\n",
       "      <td>1487580005134238553</td>\n",
       "      <td>runail</td>\n",
       "      <td>2.62</td>\n",
       "      <td>463240011</td>\n",
       "      <td>26dd6e6e-4dac-4778-8d2c-92e149dab885</td>\n",
       "    </tr>\n",
       "    <tr>\n",
       "      <th>4</th>\n",
       "      <td>2019-10-01</td>\n",
       "      <td>2019</td>\n",
       "      <td>10</td>\n",
       "      <td>01</td>\n",
       "      <td>1</td>\n",
       "      <td>00:00:15</td>\n",
       "      <td>cart</td>\n",
       "      <td>5881449</td>\n",
       "      <td>1487580013522845895</td>\n",
       "      <td>lovely</td>\n",
       "      <td>0.56</td>\n",
       "      <td>429681830</td>\n",
       "      <td>49e8d843-adf3-428b-a2c3-fe8bc6a307c9</td>\n",
       "    </tr>\n",
       "    <tr>\n",
       "      <th>...</th>\n",
       "      <td>...</td>\n",
       "      <td>...</td>\n",
       "      <td>...</td>\n",
       "      <td>...</td>\n",
       "      <td>...</td>\n",
       "      <td>...</td>\n",
       "      <td>...</td>\n",
       "      <td>...</td>\n",
       "      <td>...</td>\n",
       "      <td>...</td>\n",
       "      <td>...</td>\n",
       "      <td>...</td>\n",
       "      <td>...</td>\n",
       "    </tr>\n",
       "    <tr>\n",
       "      <th>7114399</th>\n",
       "      <td>2019-12-31</td>\n",
       "      <td>2019</td>\n",
       "      <td>12</td>\n",
       "      <td>31</td>\n",
       "      <td>1</td>\n",
       "      <td>23:58:13</td>\n",
       "      <td>view</td>\n",
       "      <td>5869134</td>\n",
       "      <td>1783999064136745198</td>\n",
       "      <td>cosmoprofi</td>\n",
       "      <td>6.35</td>\n",
       "      <td>397780878</td>\n",
       "      <td>7e8a2b85-153a-44eb-a71f-b748fde14fcc</td>\n",
       "    </tr>\n",
       "    <tr>\n",
       "      <th>7114400</th>\n",
       "      <td>2019-12-31</td>\n",
       "      <td>2019</td>\n",
       "      <td>12</td>\n",
       "      <td>31</td>\n",
       "      <td>1</td>\n",
       "      <td>23:58:35</td>\n",
       "      <td>cart</td>\n",
       "      <td>5622677</td>\n",
       "      <td>1487580007281722301</td>\n",
       "      <td>severina</td>\n",
       "      <td>3.16</td>\n",
       "      <td>502631750</td>\n",
       "      <td>6edb4c0e-285c-4fbc-8977-589ef6d326b8</td>\n",
       "    </tr>\n",
       "    <tr>\n",
       "      <th>7114401</th>\n",
       "      <td>2019-12-31</td>\n",
       "      <td>2019</td>\n",
       "      <td>12</td>\n",
       "      <td>31</td>\n",
       "      <td>1</td>\n",
       "      <td>23:59:37</td>\n",
       "      <td>view</td>\n",
       "      <td>5834173</td>\n",
       "      <td>2151191070908613477</td>\n",
       "      <td>runail</td>\n",
       "      <td>2.62</td>\n",
       "      <td>595411904</td>\n",
       "      <td>74ca1cd5-5381-4ffe-b00b-a258b390db77</td>\n",
       "    </tr>\n",
       "    <tr>\n",
       "      <th>7114402</th>\n",
       "      <td>2019-12-31</td>\n",
       "      <td>2019</td>\n",
       "      <td>12</td>\n",
       "      <td>31</td>\n",
       "      <td>1</td>\n",
       "      <td>23:59:39</td>\n",
       "      <td>view</td>\n",
       "      <td>5683350</td>\n",
       "      <td>1487580005671109489</td>\n",
       "      <td>masura</td>\n",
       "      <td>2.84</td>\n",
       "      <td>536812729</td>\n",
       "      <td>e4a2d47c-a956-4c46-8176-745f52ea664b</td>\n",
       "    </tr>\n",
       "    <tr>\n",
       "      <th>7114403</th>\n",
       "      <td>2019-12-31</td>\n",
       "      <td>2019</td>\n",
       "      <td>12</td>\n",
       "      <td>31</td>\n",
       "      <td>1</td>\n",
       "      <td>23:59:46</td>\n",
       "      <td>view</td>\n",
       "      <td>5888097</td>\n",
       "      <td>1487580013388628160</td>\n",
       "      <td>shik</td>\n",
       "      <td>179.05</td>\n",
       "      <td>503658154</td>\n",
       "      <td>2dde9867-9e71-4a64-880d-aa68b66aae6d</td>\n",
       "    </tr>\n",
       "  </tbody>\n",
       "</table>\n",
       "<p>7114404 rows × 13 columns</p>\n",
       "</div>"
      ],
      "text/plain": [
       "              date  year month day  dow  time_utc event_type  product_id  \\\n",
       "0       2019-10-01  2019    10  01    1  00:00:00       cart     5773203   \n",
       "1       2019-10-01  2019    10  01    1  00:00:03       cart     5773353   \n",
       "2       2019-10-01  2019    10  01    1  00:00:07       cart     5881589   \n",
       "3       2019-10-01  2019    10  01    1  00:00:07       cart     5723490   \n",
       "4       2019-10-01  2019    10  01    1  00:00:15       cart     5881449   \n",
       "...            ...   ...   ...  ..  ...       ...        ...         ...   \n",
       "7114399 2019-12-31  2019    12  31    1  23:58:13       view     5869134   \n",
       "7114400 2019-12-31  2019    12  31    1  23:58:35       cart     5622677   \n",
       "7114401 2019-12-31  2019    12  31    1  23:59:37       view     5834173   \n",
       "7114402 2019-12-31  2019    12  31    1  23:59:39       view     5683350   \n",
       "7114403 2019-12-31  2019    12  31    1  23:59:46       view     5888097   \n",
       "\n",
       "                 category_id       brand   price    user_id  \\\n",
       "0        1487580005134238553      runail    2.62  463240011   \n",
       "1        1487580005134238553      runail    2.62  463240011   \n",
       "2        2151191071051219817      lovely   13.48  429681830   \n",
       "3        1487580005134238553      runail    2.62  463240011   \n",
       "4        1487580013522845895      lovely    0.56  429681830   \n",
       "...                      ...         ...     ...        ...   \n",
       "7114399  1783999064136745198  cosmoprofi    6.35  397780878   \n",
       "7114400  1487580007281722301    severina    3.16  502631750   \n",
       "7114401  2151191070908613477      runail    2.62  595411904   \n",
       "7114402  1487580005671109489      masura    2.84  536812729   \n",
       "7114403  1487580013388628160        shik  179.05  503658154   \n",
       "\n",
       "                                 user_session  \n",
       "0        26dd6e6e-4dac-4778-8d2c-92e149dab885  \n",
       "1        26dd6e6e-4dac-4778-8d2c-92e149dab885  \n",
       "2        49e8d843-adf3-428b-a2c3-fe8bc6a307c9  \n",
       "3        26dd6e6e-4dac-4778-8d2c-92e149dab885  \n",
       "4        49e8d843-adf3-428b-a2c3-fe8bc6a307c9  \n",
       "...                                       ...  \n",
       "7114399  7e8a2b85-153a-44eb-a71f-b748fde14fcc  \n",
       "7114400  6edb4c0e-285c-4fbc-8977-589ef6d326b8  \n",
       "7114401  74ca1cd5-5381-4ffe-b00b-a258b390db77  \n",
       "7114402  e4a2d47c-a956-4c46-8176-745f52ea664b  \n",
       "7114403  2dde9867-9e71-4a64-880d-aa68b66aae6d  \n",
       "\n",
       "[7114404 rows x 13 columns]"
      ]
     },
     "execution_count": 44,
     "metadata": {},
     "output_type": "execute_result"
    }
   ],
   "source": [
    "oct_2019_dec_2019 = oct_2019_nov_2019.append(dec_2019_cp, ignore_index = True)\n",
    "oct_2019_dec_2019"
   ]
  },
  {
   "cell_type": "code",
   "execution_count": 45,
   "metadata": {},
   "outputs": [
    {
     "data": {
      "text/html": [
       "<div>\n",
       "<style scoped>\n",
       "    .dataframe tbody tr th:only-of-type {\n",
       "        vertical-align: middle;\n",
       "    }\n",
       "\n",
       "    .dataframe tbody tr th {\n",
       "        vertical-align: top;\n",
       "    }\n",
       "\n",
       "    .dataframe thead th {\n",
       "        text-align: right;\n",
       "    }\n",
       "</style>\n",
       "<table border=\"1\" class=\"dataframe\">\n",
       "  <thead>\n",
       "    <tr style=\"text-align: right;\">\n",
       "      <th></th>\n",
       "      <th>date</th>\n",
       "      <th>year</th>\n",
       "      <th>month</th>\n",
       "      <th>day</th>\n",
       "      <th>dow</th>\n",
       "      <th>time_utc</th>\n",
       "      <th>event_type</th>\n",
       "      <th>product_id</th>\n",
       "      <th>category_id</th>\n",
       "      <th>brand</th>\n",
       "      <th>price</th>\n",
       "      <th>user_id</th>\n",
       "      <th>user_session</th>\n",
       "    </tr>\n",
       "  </thead>\n",
       "  <tbody>\n",
       "    <tr>\n",
       "      <th>0</th>\n",
       "      <td>2019-10-01</td>\n",
       "      <td>2019</td>\n",
       "      <td>10</td>\n",
       "      <td>01</td>\n",
       "      <td>1</td>\n",
       "      <td>00:00:00</td>\n",
       "      <td>cart</td>\n",
       "      <td>5773203</td>\n",
       "      <td>1487580005134238553</td>\n",
       "      <td>runail</td>\n",
       "      <td>2.62</td>\n",
       "      <td>463240011</td>\n",
       "      <td>26dd6e6e-4dac-4778-8d2c-92e149dab885</td>\n",
       "    </tr>\n",
       "    <tr>\n",
       "      <th>1</th>\n",
       "      <td>2019-10-01</td>\n",
       "      <td>2019</td>\n",
       "      <td>10</td>\n",
       "      <td>01</td>\n",
       "      <td>1</td>\n",
       "      <td>00:00:03</td>\n",
       "      <td>cart</td>\n",
       "      <td>5773353</td>\n",
       "      <td>1487580005134238553</td>\n",
       "      <td>runail</td>\n",
       "      <td>2.62</td>\n",
       "      <td>463240011</td>\n",
       "      <td>26dd6e6e-4dac-4778-8d2c-92e149dab885</td>\n",
       "    </tr>\n",
       "    <tr>\n",
       "      <th>2</th>\n",
       "      <td>2019-10-01</td>\n",
       "      <td>2019</td>\n",
       "      <td>10</td>\n",
       "      <td>01</td>\n",
       "      <td>1</td>\n",
       "      <td>00:00:07</td>\n",
       "      <td>cart</td>\n",
       "      <td>5881589</td>\n",
       "      <td>2151191071051219817</td>\n",
       "      <td>lovely</td>\n",
       "      <td>13.48</td>\n",
       "      <td>429681830</td>\n",
       "      <td>49e8d843-adf3-428b-a2c3-fe8bc6a307c9</td>\n",
       "    </tr>\n",
       "    <tr>\n",
       "      <th>3</th>\n",
       "      <td>2019-10-01</td>\n",
       "      <td>2019</td>\n",
       "      <td>10</td>\n",
       "      <td>01</td>\n",
       "      <td>1</td>\n",
       "      <td>00:00:07</td>\n",
       "      <td>cart</td>\n",
       "      <td>5723490</td>\n",
       "      <td>1487580005134238553</td>\n",
       "      <td>runail</td>\n",
       "      <td>2.62</td>\n",
       "      <td>463240011</td>\n",
       "      <td>26dd6e6e-4dac-4778-8d2c-92e149dab885</td>\n",
       "    </tr>\n",
       "    <tr>\n",
       "      <th>4</th>\n",
       "      <td>2019-10-01</td>\n",
       "      <td>2019</td>\n",
       "      <td>10</td>\n",
       "      <td>01</td>\n",
       "      <td>1</td>\n",
       "      <td>00:00:15</td>\n",
       "      <td>cart</td>\n",
       "      <td>5881449</td>\n",
       "      <td>1487580013522845895</td>\n",
       "      <td>lovely</td>\n",
       "      <td>0.56</td>\n",
       "      <td>429681830</td>\n",
       "      <td>49e8d843-adf3-428b-a2c3-fe8bc6a307c9</td>\n",
       "    </tr>\n",
       "    <tr>\n",
       "      <th>...</th>\n",
       "      <td>...</td>\n",
       "      <td>...</td>\n",
       "      <td>...</td>\n",
       "      <td>...</td>\n",
       "      <td>...</td>\n",
       "      <td>...</td>\n",
       "      <td>...</td>\n",
       "      <td>...</td>\n",
       "      <td>...</td>\n",
       "      <td>...</td>\n",
       "      <td>...</td>\n",
       "      <td>...</td>\n",
       "      <td>...</td>\n",
       "    </tr>\n",
       "    <tr>\n",
       "      <th>9602665</th>\n",
       "      <td>2020-01-31</td>\n",
       "      <td>2020</td>\n",
       "      <td>01</td>\n",
       "      <td>31</td>\n",
       "      <td>4</td>\n",
       "      <td>23:59:43</td>\n",
       "      <td>remove_from_cart</td>\n",
       "      <td>5751422</td>\n",
       "      <td>1487580005268456287</td>\n",
       "      <td>uno</td>\n",
       "      <td>10.95</td>\n",
       "      <td>607092857</td>\n",
       "      <td>a4ccd1c4-a9d2-48d0-9816-082ec5bb5e47</td>\n",
       "    </tr>\n",
       "    <tr>\n",
       "      <th>9602666</th>\n",
       "      <td>2020-01-31</td>\n",
       "      <td>2020</td>\n",
       "      <td>01</td>\n",
       "      <td>31</td>\n",
       "      <td>4</td>\n",
       "      <td>23:59:43</td>\n",
       "      <td>remove_from_cart</td>\n",
       "      <td>5751422</td>\n",
       "      <td>1487580005268456287</td>\n",
       "      <td>uno</td>\n",
       "      <td>10.95</td>\n",
       "      <td>607092857</td>\n",
       "      <td>a4ccd1c4-a9d2-48d0-9816-082ec5bb5e47</td>\n",
       "    </tr>\n",
       "    <tr>\n",
       "      <th>9602667</th>\n",
       "      <td>2020-01-31</td>\n",
       "      <td>2020</td>\n",
       "      <td>01</td>\n",
       "      <td>31</td>\n",
       "      <td>4</td>\n",
       "      <td>23:59:44</td>\n",
       "      <td>view</td>\n",
       "      <td>5877031</td>\n",
       "      <td>1487580010100293687</td>\n",
       "      <td>milv</td>\n",
       "      <td>3.49</td>\n",
       "      <td>564814969</td>\n",
       "      <td>fc7063a6-b45e-4863-babb-da4934b83388</td>\n",
       "    </tr>\n",
       "    <tr>\n",
       "      <th>9602668</th>\n",
       "      <td>2020-01-31</td>\n",
       "      <td>2020</td>\n",
       "      <td>01</td>\n",
       "      <td>31</td>\n",
       "      <td>4</td>\n",
       "      <td>23:59:47</td>\n",
       "      <td>view</td>\n",
       "      <td>5870076</td>\n",
       "      <td>1783999064136745198</td>\n",
       "      <td>grattol</td>\n",
       "      <td>5.71</td>\n",
       "      <td>583267679</td>\n",
       "      <td>2806ff10-08bc-4811-9ab7-af074fe22a88</td>\n",
       "    </tr>\n",
       "    <tr>\n",
       "      <th>9602669</th>\n",
       "      <td>2020-01-31</td>\n",
       "      <td>2020</td>\n",
       "      <td>01</td>\n",
       "      <td>31</td>\n",
       "      <td>4</td>\n",
       "      <td>23:59:52</td>\n",
       "      <td>view</td>\n",
       "      <td>5796984</td>\n",
       "      <td>1487580005671109489</td>\n",
       "      <td>masura</td>\n",
       "      <td>1.73</td>\n",
       "      <td>417102560</td>\n",
       "      <td>dcf90ff3-a246-4b00-b39a-83e6444a0769</td>\n",
       "    </tr>\n",
       "  </tbody>\n",
       "</table>\n",
       "<p>9602670 rows × 13 columns</p>\n",
       "</div>"
      ],
      "text/plain": [
       "              date  year month day  dow  time_utc        event_type  \\\n",
       "0       2019-10-01  2019    10  01    1  00:00:00              cart   \n",
       "1       2019-10-01  2019    10  01    1  00:00:03              cart   \n",
       "2       2019-10-01  2019    10  01    1  00:00:07              cart   \n",
       "3       2019-10-01  2019    10  01    1  00:00:07              cart   \n",
       "4       2019-10-01  2019    10  01    1  00:00:15              cart   \n",
       "...            ...   ...   ...  ..  ...       ...               ...   \n",
       "9602665 2020-01-31  2020    01  31    4  23:59:43  remove_from_cart   \n",
       "9602666 2020-01-31  2020    01  31    4  23:59:43  remove_from_cart   \n",
       "9602667 2020-01-31  2020    01  31    4  23:59:44              view   \n",
       "9602668 2020-01-31  2020    01  31    4  23:59:47              view   \n",
       "9602669 2020-01-31  2020    01  31    4  23:59:52              view   \n",
       "\n",
       "         product_id          category_id    brand  price    user_id  \\\n",
       "0           5773203  1487580005134238553   runail   2.62  463240011   \n",
       "1           5773353  1487580005134238553   runail   2.62  463240011   \n",
       "2           5881589  2151191071051219817   lovely  13.48  429681830   \n",
       "3           5723490  1487580005134238553   runail   2.62  463240011   \n",
       "4           5881449  1487580013522845895   lovely   0.56  429681830   \n",
       "...             ...                  ...      ...    ...        ...   \n",
       "9602665     5751422  1487580005268456287      uno  10.95  607092857   \n",
       "9602666     5751422  1487580005268456287      uno  10.95  607092857   \n",
       "9602667     5877031  1487580010100293687     milv   3.49  564814969   \n",
       "9602668     5870076  1783999064136745198  grattol   5.71  583267679   \n",
       "9602669     5796984  1487580005671109489   masura   1.73  417102560   \n",
       "\n",
       "                                 user_session  \n",
       "0        26dd6e6e-4dac-4778-8d2c-92e149dab885  \n",
       "1        26dd6e6e-4dac-4778-8d2c-92e149dab885  \n",
       "2        49e8d843-adf3-428b-a2c3-fe8bc6a307c9  \n",
       "3        26dd6e6e-4dac-4778-8d2c-92e149dab885  \n",
       "4        49e8d843-adf3-428b-a2c3-fe8bc6a307c9  \n",
       "...                                       ...  \n",
       "9602665  a4ccd1c4-a9d2-48d0-9816-082ec5bb5e47  \n",
       "9602666  a4ccd1c4-a9d2-48d0-9816-082ec5bb5e47  \n",
       "9602667  fc7063a6-b45e-4863-babb-da4934b83388  \n",
       "9602668  2806ff10-08bc-4811-9ab7-af074fe22a88  \n",
       "9602669  dcf90ff3-a246-4b00-b39a-83e6444a0769  \n",
       "\n",
       "[9602670 rows x 13 columns]"
      ]
     },
     "execution_count": 45,
     "metadata": {},
     "output_type": "execute_result"
    }
   ],
   "source": [
    "oct_2019_jan_2020 = oct_2019_dec_2019.append(jan_2020_cp, ignore_index = True)\n",
    "oct_2019_jan_2020"
   ]
  },
  {
   "cell_type": "code",
   "execution_count": 46,
   "metadata": {},
   "outputs": [
    {
     "data": {
      "text/html": [
       "<div>\n",
       "<style scoped>\n",
       "    .dataframe tbody tr th:only-of-type {\n",
       "        vertical-align: middle;\n",
       "    }\n",
       "\n",
       "    .dataframe tbody tr th {\n",
       "        vertical-align: top;\n",
       "    }\n",
       "\n",
       "    .dataframe thead th {\n",
       "        text-align: right;\n",
       "    }\n",
       "</style>\n",
       "<table border=\"1\" class=\"dataframe\">\n",
       "  <thead>\n",
       "    <tr style=\"text-align: right;\">\n",
       "      <th></th>\n",
       "      <th>date</th>\n",
       "      <th>year</th>\n",
       "      <th>month</th>\n",
       "      <th>day</th>\n",
       "      <th>dow</th>\n",
       "      <th>time_utc</th>\n",
       "      <th>event_type</th>\n",
       "      <th>product_id</th>\n",
       "      <th>category_id</th>\n",
       "      <th>brand</th>\n",
       "      <th>price</th>\n",
       "      <th>user_id</th>\n",
       "      <th>user_session</th>\n",
       "    </tr>\n",
       "  </thead>\n",
       "  <tbody>\n",
       "    <tr>\n",
       "      <th>0</th>\n",
       "      <td>2019-10-01</td>\n",
       "      <td>2019</td>\n",
       "      <td>10</td>\n",
       "      <td>01</td>\n",
       "      <td>1</td>\n",
       "      <td>00:00:00</td>\n",
       "      <td>cart</td>\n",
       "      <td>5773203</td>\n",
       "      <td>1487580005134238553</td>\n",
       "      <td>runail</td>\n",
       "      <td>2.62</td>\n",
       "      <td>463240011</td>\n",
       "      <td>26dd6e6e-4dac-4778-8d2c-92e149dab885</td>\n",
       "    </tr>\n",
       "    <tr>\n",
       "      <th>1</th>\n",
       "      <td>2019-10-01</td>\n",
       "      <td>2019</td>\n",
       "      <td>10</td>\n",
       "      <td>01</td>\n",
       "      <td>1</td>\n",
       "      <td>00:00:03</td>\n",
       "      <td>cart</td>\n",
       "      <td>5773353</td>\n",
       "      <td>1487580005134238553</td>\n",
       "      <td>runail</td>\n",
       "      <td>2.62</td>\n",
       "      <td>463240011</td>\n",
       "      <td>26dd6e6e-4dac-4778-8d2c-92e149dab885</td>\n",
       "    </tr>\n",
       "    <tr>\n",
       "      <th>2</th>\n",
       "      <td>2019-10-01</td>\n",
       "      <td>2019</td>\n",
       "      <td>10</td>\n",
       "      <td>01</td>\n",
       "      <td>1</td>\n",
       "      <td>00:00:07</td>\n",
       "      <td>cart</td>\n",
       "      <td>5881589</td>\n",
       "      <td>2151191071051219817</td>\n",
       "      <td>lovely</td>\n",
       "      <td>13.48</td>\n",
       "      <td>429681830</td>\n",
       "      <td>49e8d843-adf3-428b-a2c3-fe8bc6a307c9</td>\n",
       "    </tr>\n",
       "    <tr>\n",
       "      <th>3</th>\n",
       "      <td>2019-10-01</td>\n",
       "      <td>2019</td>\n",
       "      <td>10</td>\n",
       "      <td>01</td>\n",
       "      <td>1</td>\n",
       "      <td>00:00:07</td>\n",
       "      <td>cart</td>\n",
       "      <td>5723490</td>\n",
       "      <td>1487580005134238553</td>\n",
       "      <td>runail</td>\n",
       "      <td>2.62</td>\n",
       "      <td>463240011</td>\n",
       "      <td>26dd6e6e-4dac-4778-8d2c-92e149dab885</td>\n",
       "    </tr>\n",
       "    <tr>\n",
       "      <th>4</th>\n",
       "      <td>2019-10-01</td>\n",
       "      <td>2019</td>\n",
       "      <td>10</td>\n",
       "      <td>01</td>\n",
       "      <td>1</td>\n",
       "      <td>00:00:15</td>\n",
       "      <td>cart</td>\n",
       "      <td>5881449</td>\n",
       "      <td>1487580013522845895</td>\n",
       "      <td>lovely</td>\n",
       "      <td>0.56</td>\n",
       "      <td>429681830</td>\n",
       "      <td>49e8d843-adf3-428b-a2c3-fe8bc6a307c9</td>\n",
       "    </tr>\n",
       "    <tr>\n",
       "      <th>...</th>\n",
       "      <td>...</td>\n",
       "      <td>...</td>\n",
       "      <td>...</td>\n",
       "      <td>...</td>\n",
       "      <td>...</td>\n",
       "      <td>...</td>\n",
       "      <td>...</td>\n",
       "      <td>...</td>\n",
       "      <td>...</td>\n",
       "      <td>...</td>\n",
       "      <td>...</td>\n",
       "      <td>...</td>\n",
       "      <td>...</td>\n",
       "    </tr>\n",
       "    <tr>\n",
       "      <th>11932749</th>\n",
       "      <td>2020-02-29</td>\n",
       "      <td>2020</td>\n",
       "      <td>02</td>\n",
       "      <td>29</td>\n",
       "      <td>5</td>\n",
       "      <td>23:59:21</td>\n",
       "      <td>view</td>\n",
       "      <td>5467</td>\n",
       "      <td>1487580005713052531</td>\n",
       "      <td>ingarden</td>\n",
       "      <td>8.29</td>\n",
       "      <td>618860454</td>\n",
       "      <td>5d3d51d6-ca15-432f-99c6-bc232bb49b1f</td>\n",
       "    </tr>\n",
       "    <tr>\n",
       "      <th>11932750</th>\n",
       "      <td>2020-02-29</td>\n",
       "      <td>2020</td>\n",
       "      <td>02</td>\n",
       "      <td>29</td>\n",
       "      <td>5</td>\n",
       "      <td>23:59:32</td>\n",
       "      <td>view</td>\n",
       "      <td>5885416</td>\n",
       "      <td>1487580005092295511</td>\n",
       "      <td>grattol</td>\n",
       "      <td>6.27</td>\n",
       "      <td>622082947</td>\n",
       "      <td>fb29909b-6ef5-4662-b4ee-288e73e5dc10</td>\n",
       "    </tr>\n",
       "    <tr>\n",
       "      <th>11932751</th>\n",
       "      <td>2020-02-29</td>\n",
       "      <td>2020</td>\n",
       "      <td>02</td>\n",
       "      <td>29</td>\n",
       "      <td>5</td>\n",
       "      <td>23:59:45</td>\n",
       "      <td>view</td>\n",
       "      <td>5850628</td>\n",
       "      <td>1602943681873052386</td>\n",
       "      <td>grattol</td>\n",
       "      <td>5.24</td>\n",
       "      <td>622090043</td>\n",
       "      <td>ab7d349f-db5d-4790-8ab1-31e5c894459d</td>\n",
       "    </tr>\n",
       "    <tr>\n",
       "      <th>11932752</th>\n",
       "      <td>2020-02-29</td>\n",
       "      <td>2020</td>\n",
       "      <td>02</td>\n",
       "      <td>29</td>\n",
       "      <td>5</td>\n",
       "      <td>23:59:54</td>\n",
       "      <td>view</td>\n",
       "      <td>5716351</td>\n",
       "      <td>1487580010872045658</td>\n",
       "      <td>irisk</td>\n",
       "      <td>0.79</td>\n",
       "      <td>619841242</td>\n",
       "      <td>18af673b-7fb9-4202-a66d-5c855bc0fd2d</td>\n",
       "    </tr>\n",
       "    <tr>\n",
       "      <th>11932753</th>\n",
       "      <td>2020-02-29</td>\n",
       "      <td>2020</td>\n",
       "      <td>02</td>\n",
       "      <td>29</td>\n",
       "      <td>5</td>\n",
       "      <td>23:59:59</td>\n",
       "      <td>view</td>\n",
       "      <td>5927709</td>\n",
       "      <td>1487580013950664926</td>\n",
       "      <td>de.lux</td>\n",
       "      <td>3.17</td>\n",
       "      <td>621669991</td>\n",
       "      <td>daa3c677-5360-4327-847e-d29658716b99</td>\n",
       "    </tr>\n",
       "  </tbody>\n",
       "</table>\n",
       "<p>11932754 rows × 13 columns</p>\n",
       "</div>"
      ],
      "text/plain": [
       "               date  year month day  dow  time_utc event_type  product_id  \\\n",
       "0        2019-10-01  2019    10  01    1  00:00:00       cart     5773203   \n",
       "1        2019-10-01  2019    10  01    1  00:00:03       cart     5773353   \n",
       "2        2019-10-01  2019    10  01    1  00:00:07       cart     5881589   \n",
       "3        2019-10-01  2019    10  01    1  00:00:07       cart     5723490   \n",
       "4        2019-10-01  2019    10  01    1  00:00:15       cart     5881449   \n",
       "...             ...   ...   ...  ..  ...       ...        ...         ...   \n",
       "11932749 2020-02-29  2020    02  29    5  23:59:21       view        5467   \n",
       "11932750 2020-02-29  2020    02  29    5  23:59:32       view     5885416   \n",
       "11932751 2020-02-29  2020    02  29    5  23:59:45       view     5850628   \n",
       "11932752 2020-02-29  2020    02  29    5  23:59:54       view     5716351   \n",
       "11932753 2020-02-29  2020    02  29    5  23:59:59       view     5927709   \n",
       "\n",
       "                  category_id     brand  price    user_id  \\\n",
       "0         1487580005134238553    runail   2.62  463240011   \n",
       "1         1487580005134238553    runail   2.62  463240011   \n",
       "2         2151191071051219817    lovely  13.48  429681830   \n",
       "3         1487580005134238553    runail   2.62  463240011   \n",
       "4         1487580013522845895    lovely   0.56  429681830   \n",
       "...                       ...       ...    ...        ...   \n",
       "11932749  1487580005713052531  ingarden   8.29  618860454   \n",
       "11932750  1487580005092295511   grattol   6.27  622082947   \n",
       "11932751  1602943681873052386   grattol   5.24  622090043   \n",
       "11932752  1487580010872045658     irisk   0.79  619841242   \n",
       "11932753  1487580013950664926    de.lux   3.17  621669991   \n",
       "\n",
       "                                  user_session  \n",
       "0         26dd6e6e-4dac-4778-8d2c-92e149dab885  \n",
       "1         26dd6e6e-4dac-4778-8d2c-92e149dab885  \n",
       "2         49e8d843-adf3-428b-a2c3-fe8bc6a307c9  \n",
       "3         26dd6e6e-4dac-4778-8d2c-92e149dab885  \n",
       "4         49e8d843-adf3-428b-a2c3-fe8bc6a307c9  \n",
       "...                                        ...  \n",
       "11932749  5d3d51d6-ca15-432f-99c6-bc232bb49b1f  \n",
       "11932750  fb29909b-6ef5-4662-b4ee-288e73e5dc10  \n",
       "11932751  ab7d349f-db5d-4790-8ab1-31e5c894459d  \n",
       "11932752  18af673b-7fb9-4202-a66d-5c855bc0fd2d  \n",
       "11932753  daa3c677-5360-4327-847e-d29658716b99  \n",
       "\n",
       "[11932754 rows x 13 columns]"
      ]
     },
     "execution_count": 46,
     "metadata": {},
     "output_type": "execute_result"
    }
   ],
   "source": [
    "oct_2019_feb_2020 = oct_2019_jan_2020.append(feb_2020_cp, ignore_index = True)\n",
    "oct_2019_feb_2020"
   ]
  },
  {
   "cell_type": "markdown",
   "metadata": {},
   "source": [
    "# Export CSV"
   ]
  },
  {
   "cell_type": "code",
   "execution_count": 47,
   "metadata": {},
   "outputs": [],
   "source": [
    "#oct_2019_feb_2020.to_csv('oct_2019_feb_2020.csv', index=False)"
   ]
  },
  {
   "cell_type": "markdown",
   "metadata": {},
   "source": [
    "# Modeling"
   ]
  },
  {
   "cell_type": "code",
   "execution_count": 48,
   "metadata": {},
   "outputs": [
    {
     "name": "stderr",
     "output_type": "stream",
     "text": [
      "Importing plotly failed. Interactive plots will not work.\n"
     ]
    }
   ],
   "source": [
    "from darts import TimeSeries\n",
    "from darts.models import (\n",
    "    NaiveSeasonal,\n",
    "    NaiveDrift,\n",
    "    #Prophet,\n",
    "    ExponentialSmoothing,\n",
    "    ARIMA,\n",
    "    AutoARIMA,\n",
    "    StandardRegressionModel,\n",
    "    Theta,\n",
    "    FFT,\n",
    "    forecasting_model\n",
    ")\n",
    "from darts.metrics import mape, mase\n",
    "from darts.backtesting import (\n",
    "    backtest_forecasting,\n",
    "    backtest_regression,\n",
    "    plot_residuals_analysis,\n",
    "    forecasting_residuals\n",
    ")\n",
    "from darts.utils.statistics import check_seasonality, plot_acf\n",
    "\n",
    "import warnings\n",
    "warnings.filterwarnings(\"ignore\")\n",
    "import logging\n",
    "logging.disable(logging.CRITICAL)\n",
    "import ipywidgets as widgets\n",
    "import matplotlib.pyplot as plt\n",
    "from sklearn.linear_model import BayesianRidge"
   ]
  },
  {
   "cell_type": "code",
   "execution_count": 49,
   "metadata": {},
   "outputs": [],
   "source": [
    "purchases = oct_2019_feb_2020.loc[oct_2019_feb_2020.event_type == 'purchase']"
   ]
  },
  {
   "cell_type": "code",
   "execution_count": 50,
   "metadata": {},
   "outputs": [
    {
     "data": {
      "text/html": [
       "<div>\n",
       "<style scoped>\n",
       "    .dataframe tbody tr th:only-of-type {\n",
       "        vertical-align: middle;\n",
       "    }\n",
       "\n",
       "    .dataframe tbody tr th {\n",
       "        vertical-align: top;\n",
       "    }\n",
       "\n",
       "    .dataframe thead th {\n",
       "        text-align: right;\n",
       "    }\n",
       "</style>\n",
       "<table border=\"1\" class=\"dataframe\">\n",
       "  <thead>\n",
       "    <tr style=\"text-align: right;\">\n",
       "      <th></th>\n",
       "      <th>date</th>\n",
       "      <th>price</th>\n",
       "    </tr>\n",
       "  </thead>\n",
       "  <tbody>\n",
       "    <tr>\n",
       "      <th>0</th>\n",
       "      <td>2019-10-01</td>\n",
       "      <td>26917.43</td>\n",
       "    </tr>\n",
       "    <tr>\n",
       "      <th>1</th>\n",
       "      <td>2019-10-02</td>\n",
       "      <td>27912.61</td>\n",
       "    </tr>\n",
       "    <tr>\n",
       "      <th>2</th>\n",
       "      <td>2019-10-03</td>\n",
       "      <td>27170.12</td>\n",
       "    </tr>\n",
       "    <tr>\n",
       "      <th>3</th>\n",
       "      <td>2019-10-04</td>\n",
       "      <td>22412.60</td>\n",
       "    </tr>\n",
       "    <tr>\n",
       "      <th>4</th>\n",
       "      <td>2019-10-05</td>\n",
       "      <td>18577.86</td>\n",
       "    </tr>\n",
       "    <tr>\n",
       "      <th>...</th>\n",
       "      <td>...</td>\n",
       "      <td>...</td>\n",
       "    </tr>\n",
       "    <tr>\n",
       "      <th>147</th>\n",
       "      <td>2020-02-25</td>\n",
       "      <td>29034.17</td>\n",
       "    </tr>\n",
       "    <tr>\n",
       "      <th>148</th>\n",
       "      <td>2020-02-26</td>\n",
       "      <td>26852.89</td>\n",
       "    </tr>\n",
       "    <tr>\n",
       "      <th>149</th>\n",
       "      <td>2020-02-27</td>\n",
       "      <td>27085.15</td>\n",
       "    </tr>\n",
       "    <tr>\n",
       "      <th>150</th>\n",
       "      <td>2020-02-28</td>\n",
       "      <td>24479.07</td>\n",
       "    </tr>\n",
       "    <tr>\n",
       "      <th>151</th>\n",
       "      <td>2020-02-29</td>\n",
       "      <td>22245.42</td>\n",
       "    </tr>\n",
       "  </tbody>\n",
       "</table>\n",
       "<p>152 rows × 2 columns</p>\n",
       "</div>"
      ],
      "text/plain": [
       "          date     price\n",
       "0   2019-10-01  26917.43\n",
       "1   2019-10-02  27912.61\n",
       "2   2019-10-03  27170.12\n",
       "3   2019-10-04  22412.60\n",
       "4   2019-10-05  18577.86\n",
       "..         ...       ...\n",
       "147 2020-02-25  29034.17\n",
       "148 2020-02-26  26852.89\n",
       "149 2020-02-27  27085.15\n",
       "150 2020-02-28  24479.07\n",
       "151 2020-02-29  22245.42\n",
       "\n",
       "[152 rows x 2 columns]"
      ]
     },
     "execution_count": 50,
     "metadata": {},
     "output_type": "execute_result"
    }
   ],
   "source": [
    "revenue_date = purchases.groupby('date')['price'].sum().reset_index()\n",
    "revenue_date"
   ]
  },
  {
   "cell_type": "code",
   "execution_count": null,
   "metadata": {},
   "outputs": [],
   "source": []
  },
  {
   "cell_type": "code",
   "execution_count": 51,
   "metadata": {},
   "outputs": [
    {
     "data": {
      "image/png": "[encoded data removed]",
      "text/plain": [
       "<Figure size 720x576 with 1 Axes>"
      ]
     },
     "metadata": {
      "needs_background": "light"
     },
     "output_type": "display_data"
    }
   ],
   "source": [
    "series = TimeSeries.from_dataframe(revenue_date, 'date', ['price'])\n",
    "plt.figure(figsize=(10,8))\n",
    "series.plot(lw=3)"
   ]
  },
  {
   "cell_type": "code",
   "execution_count": 52,
   "metadata": {},
   "outputs": [
    {
     "data": {
      "image/png": "[encoded data removed]",
      "text/plain": [
       "<Figure size 720x576 with 1 Axes>"
      ]
     },
     "metadata": {
      "needs_background": "light"
     },
     "output_type": "display_data"
    }
   ],
   "source": [
    "train, val = series.split_before(pd.Timestamp('2020-02-01'))\n",
    "plt.figure(figsize=(10,8))\n",
    "train.plot(lw=2, label='training')\n",
    "val.plot(lw=2, label='validation')\n",
    "plt.legend();"
   ]
  },
  {
   "cell_type": "code",
   "execution_count": 88,
   "metadata": {},
   "outputs": [
    {
     "data": {
      "image/png": "[encoded data removed]",
      "text/plain": [
       "<Figure size 864x720 with 1 Axes>"
      ]
     },
     "metadata": {},
     "output_type": "display_data"
    }
   ],
   "source": [
    "def eval_model(model):\n",
    "    naive_model = NaiveSeasonal(K=1)\n",
    "    naive_model.fit(train)\n",
    "    naive_forecast = naive_model.predict(60)\n",
    "    model.fit(train)\n",
    "    forecast = model.predict(60)\n",
    "    mar = pd.date_range('2020-03-01', '2020-03-31')\n",
    "    #avg_mar = np.mean(mar)\n",
    "    #print('model {} obtains MAPE: {:.2f}%'.format(model, mape(val, forecast)))\n",
    "    #print(forecast)\n",
    "    plt.figure(figsize=(12,10))\n",
    "    sns.set(font_scale=1.6)\n",
    "    series.plot(label='actual')\n",
    "    forecast.plot(label='forecast')\n",
    "    naive_forecast.plot(label='naive forecast (K=1)')\n",
    "    plt.hlines(42250.699142, min(mar), max(mar), label='average march revenue', color='purple', lw=2)\n",
    "    plt.title('MAPE = {:.2f}%'.format(mape(forecast, series)))\n",
    "    plt.ylabel('Revenue ($USD)')\n",
    "    plt.legend();\n",
    "\n",
    "eval_model(ExponentialSmoothing())"
   ]
  },
  {
   "cell_type": "code",
   "execution_count": 54,
   "metadata": {},
   "outputs": [
    {
     "data": {
      "application/vnd.jupyter.widget-view+json": {
       "model_id": "829a261e1d094a278603fec91c2982f4",
       "version_major": 2,
       "version_minor": 0
      },
      "text/plain": [
       "HBox(children=(FloatProgress(value=0.0, max=29.0), HTML(value='')))"
      ]
     },
     "metadata": {},
     "output_type": "display_data"
    },
    {
     "name": "stdout",
     "output_type": "stream",
     "text": [
      "\n"
     ]
    },
    {
     "data": {
      "text/plain": [
       "<matplotlib.legend.Legend at 0x7f82b52c8450>"
      ]
     },
     "execution_count": 54,
     "metadata": {},
     "output_type": "execute_result"
    },
    {
     "data": {
      "image/png": "[encoded data removed]",
      "text/plain": [
       "<Figure size 720x576 with 1 Axes>"
      ]
     },
     "metadata": {},
     "output_type": "display_data"
    }
   ],
   "source": [
    "model_es = ExponentialSmoothing()\n",
    "historical_fcast_es = backtest_forecasting(series, model_es, pd.Timestamp('2020-02-01'), fcast_horizon_n=1, verbose=True)\n",
    "plt.figure(figsize=(10,8))\n",
    "series.plot(label='data')\n",
    "historical_fcast_es.plot(lw=2, label='backtest 1-month ahead forecast (Exp. Smoothing)')\n",
    "plt.title('MAPE = {:.2f}%'.format(mape(historical_fcast_es, series)))\n",
    "plt.legend()"
   ]
  },
  {
   "cell_type": "code",
   "execution_count": 83,
   "metadata": {},
   "outputs": [
    {
     "name": "stdout",
     "output_type": "stream",
     "text": [
      "0    42250.699142\n",
      "dtype: float64\n"
     ]
    }
   ],
   "source": [
    "model = ExponentialSmoothing()\n",
    "model.fit(train)\n",
    "forecast = model.predict(60)\n",
    "mar = forecast[29:]\n",
    "print(np.mean(mar))"
   ]
  },
  {
   "cell_type": "code",
   "execution_count": null,
   "metadata": {},
   "outputs": [],
   "source": []
  }
 ],
 "metadata": {
  "kernelspec": {
   "display_name": "Python 3",
   "language": "python",
   "name": "python3"
  },
  "language_info": {
   "codemirror_mode": {
    "name": "ipython",
    "version": 3
   },
   "file_extension": ".py",
   "mimetype": "text/x-python",
   "name": "python",
   "nbconvert_exporter": "python",
   "pygments_lexer": "ipython3",
   "version": "3.7.7"
  }
 },
 "nbformat": 4,
 "nbformat_minor": 4
}
